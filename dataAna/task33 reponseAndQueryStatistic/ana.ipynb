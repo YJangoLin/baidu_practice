{
 "cells": [
  {
   "cell_type": "code",
   "execution_count": 1,
   "metadata": {},
   "outputs": [],
   "source": [
    "import pandas as pd\n",
    "import numpy as np"
   ]
  },
  {
   "cell_type": "code",
   "execution_count": 2,
   "metadata": {},
   "outputs": [
    {
     "data": {
      "text/html": [
       "<div>\n",
       "<style scoped>\n",
       "    .dataframe tbody tr th:only-of-type {\n",
       "        vertical-align: middle;\n",
       "    }\n",
       "\n",
       "    .dataframe tbody tr th {\n",
       "        vertical-align: top;\n",
       "    }\n",
       "\n",
       "    .dataframe thead th {\n",
       "        text-align: right;\n",
       "    }\n",
       "</style>\n",
       "<table border=\"1\" class=\"dataframe\">\n",
       "  <thead>\n",
       "    <tr style=\"text-align: right;\">\n",
       "      <th></th>\n",
       "      <th>0</th>\n",
       "      <th>1</th>\n",
       "    </tr>\n",
       "  </thead>\n",
       "  <tbody>\n",
       "    <tr>\n",
       "      <th>0</th>\n",
       "      <td>关闭烟机</td>\n",
       "      <td>{\"error_code\":0,\"error_msg\":\"OK\",\"result\":{\"da...</td>\n",
       "    </tr>\n",
       "    <tr>\n",
       "      <th>1</th>\n",
       "      <td>打开烟机</td>\n",
       "      <td>{\"error_code\":0,\"error_msg\":\"OK\",\"result\":{\"da...</td>\n",
       "    </tr>\n",
       "    <tr>\n",
       "      <th>2</th>\n",
       "      <td>再大一点</td>\n",
       "      <td>{\"error_code\":0,\"error_msg\":\"OK\",\"result\":{\"da...</td>\n",
       "    </tr>\n",
       "    <tr>\n",
       "      <th>3</th>\n",
       "      <td>关闭烟机</td>\n",
       "      <td>{\"error_code\":0,\"error_msg\":\"OK\",\"result\":{\"da...</td>\n",
       "    </tr>\n",
       "    <tr>\n",
       "      <th>4</th>\n",
       "      <td>快速蒸</td>\n",
       "      <td>{\"error_code\":0,\"error_msg\":\"OK\",\"result\":{\"da...</td>\n",
       "    </tr>\n",
       "  </tbody>\n",
       "</table>\n",
       "</div>"
      ],
      "text/plain": [
       "      0                                                  1\n",
       "0  关闭烟机  {\"error_code\":0,\"error_msg\":\"OK\",\"result\":{\"da...\n",
       "1  打开烟机  {\"error_code\":0,\"error_msg\":\"OK\",\"result\":{\"da...\n",
       "2  再大一点  {\"error_code\":0,\"error_msg\":\"OK\",\"result\":{\"da...\n",
       "3  关闭烟机  {\"error_code\":0,\"error_msg\":\"OK\",\"result\":{\"da...\n",
       "4   快速蒸  {\"error_code\":0,\"error_msg\":\"OK\",\"result\":{\"da..."
      ]
     },
     "execution_count": 2,
     "metadata": {},
     "output_type": "execute_result"
    }
   ],
   "source": [
    "root = '/Users/liangzonglin/workplace/project/temp/baidu/bce-iot/du-home-log/7days_queryAndResponse.xlsx'\n",
    "data = pd.read_excel(root, sheet_name=0,header=None)\n",
    "data.head()"
   ]
  },
  {
   "cell_type": "code",
   "execution_count": 3,
   "metadata": {},
   "outputs": [],
   "source": [
    "data.columns = [\"query\", \"response\"]"
   ]
  },
  {
   "cell_type": "code",
   "execution_count": 8,
   "metadata": {},
   "outputs": [],
   "source": [
    "countDf = data.groupby(by=\"query\").count()\n",
    "dupDf = data.drop_duplicates(subset=[\"query\"], keep=\"first\")"
   ]
  },
  {
   "cell_type": "code",
   "execution_count": 15,
   "metadata": {},
   "outputs": [],
   "source": [
    "countDf.reset_index(inplace=True)"
   ]
  },
  {
   "cell_type": "code",
   "execution_count": 16,
   "metadata": {},
   "outputs": [
    {
     "data": {
      "text/html": [
       "<div>\n",
       "<style scoped>\n",
       "    .dataframe tbody tr th:only-of-type {\n",
       "        vertical-align: middle;\n",
       "    }\n",
       "\n",
       "    .dataframe tbody tr th {\n",
       "        vertical-align: top;\n",
       "    }\n",
       "\n",
       "    .dataframe thead th {\n",
       "        text-align: right;\n",
       "    }\n",
       "</style>\n",
       "<table border=\"1\" class=\"dataframe\">\n",
       "  <thead>\n",
       "    <tr style=\"text-align: right;\">\n",
       "      <th></th>\n",
       "      <th>query</th>\n",
       "      <th>response_x</th>\n",
       "      <th>response_y</th>\n",
       "    </tr>\n",
       "  </thead>\n",
       "  <tbody>\n",
       "    <tr>\n",
       "      <th>0</th>\n",
       "      <td>关闭烟机</td>\n",
       "      <td>{\"error_code\":0,\"error_msg\":\"OK\",\"result\":{\"da...</td>\n",
       "      <td>871</td>\n",
       "    </tr>\n",
       "    <tr>\n",
       "      <th>1</th>\n",
       "      <td>打开烟机</td>\n",
       "      <td>{\"error_code\":0,\"error_msg\":\"OK\",\"result\":{\"da...</td>\n",
       "      <td>230</td>\n",
       "    </tr>\n",
       "    <tr>\n",
       "      <th>2</th>\n",
       "      <td>再大一点</td>\n",
       "      <td>{\"error_code\":0,\"error_msg\":\"OK\",\"result\":{\"da...</td>\n",
       "      <td>17</td>\n",
       "    </tr>\n",
       "    <tr>\n",
       "      <th>3</th>\n",
       "      <td>快速蒸</td>\n",
       "      <td>{\"error_code\":0,\"error_msg\":\"OK\",\"result\":{\"da...</td>\n",
       "      <td>3</td>\n",
       "    </tr>\n",
       "    <tr>\n",
       "      <th>4</th>\n",
       "      <td>打开蒸箱</td>\n",
       "      <td>{\"error_code\":0,\"error_msg\":\"OK\",\"result\":{\"da...</td>\n",
       "      <td>3</td>\n",
       "    </tr>\n",
       "  </tbody>\n",
       "</table>\n",
       "</div>"
      ],
      "text/plain": [
       "  query                                         response_x  response_y\n",
       "0  关闭烟机  {\"error_code\":0,\"error_msg\":\"OK\",\"result\":{\"da...         871\n",
       "1  打开烟机  {\"error_code\":0,\"error_msg\":\"OK\",\"result\":{\"da...         230\n",
       "2  再大一点  {\"error_code\":0,\"error_msg\":\"OK\",\"result\":{\"da...          17\n",
       "3   快速蒸  {\"error_code\":0,\"error_msg\":\"OK\",\"result\":{\"da...           3\n",
       "4  打开蒸箱  {\"error_code\":0,\"error_msg\":\"OK\",\"result\":{\"da...           3"
      ]
     },
     "execution_count": 16,
     "metadata": {},
     "output_type": "execute_result"
    }
   ],
   "source": [
    "mergeDf = pd.merge(dupDf,countDf, how=\"inner\", on=\"query\")\n",
    "mergeDf.head()"
   ]
  },
  {
   "cell_type": "code",
   "execution_count": 17,
   "metadata": {},
   "outputs": [],
   "source": [
    "mergeDf.columns = [\"query\", \"response\", \"count\"]"
   ]
  },
  {
   "cell_type": "code",
   "execution_count": 18,
   "metadata": {},
   "outputs": [],
   "source": [
    "mergeDf.to_csv(\"query_count.csv\", index=False)"
   ]
  },
  {
   "cell_type": "code",
   "execution_count": null,
   "metadata": {},
   "outputs": [],
   "source": []
  },
  {
   "cell_type": "code",
   "execution_count": 19,
   "metadata": {},
   "outputs": [
    {
     "name": "stdout",
     "output_type": "stream",
     "text": [
      "重复数据的占比为：62.6%\n"
     ]
    }
   ],
   "source": [
    "# 计算占比\n",
    "dupNum = mergeDf.loc[mergeDf[\"count\"] >= 2, \"count\"].sum()\n",
    "allTotal = mergeDf[\"count\"].sum()\n",
    "print(f\"重复数据的占比为：{round(dupNum/allTotal, 3)*100}%\")"
   ]
  },
  {
   "cell_type": "code",
   "execution_count": 20,
   "metadata": {},
   "outputs": [
    {
     "data": {
      "text/plain": [
       "4653"
      ]
     },
     "execution_count": 20,
     "metadata": {},
     "output_type": "execute_result"
    }
   ],
   "source": [
    "dupNum"
   ]
  },
  {
   "cell_type": "code",
   "execution_count": 21,
   "metadata": {},
   "outputs": [
    {
     "data": {
      "text/plain": [
       "7431"
      ]
     },
     "execution_count": 21,
     "metadata": {},
     "output_type": "execute_result"
    }
   ],
   "source": [
    "allTotal"
   ]
  },
  {
   "cell_type": "code",
   "execution_count": 22,
   "metadata": {},
   "outputs": [
    {
     "data": {
      "text/html": [
       "<div>\n",
       "<style scoped>\n",
       "    .dataframe tbody tr th:only-of-type {\n",
       "        vertical-align: middle;\n",
       "    }\n",
       "\n",
       "    .dataframe tbody tr th {\n",
       "        vertical-align: top;\n",
       "    }\n",
       "\n",
       "    .dataframe thead th {\n",
       "        text-align: right;\n",
       "    }\n",
       "</style>\n",
       "<table border=\"1\" class=\"dataframe\">\n",
       "  <thead>\n",
       "    <tr style=\"text-align: right;\">\n",
       "      <th></th>\n",
       "      <th>query</th>\n",
       "      <th>response</th>\n",
       "      <th>count</th>\n",
       "    </tr>\n",
       "  </thead>\n",
       "  <tbody>\n",
       "    <tr>\n",
       "      <th>0</th>\n",
       "      <td>关闭烟机</td>\n",
       "      <td>{\"error_code\":0,\"error_msg\":\"OK\",\"result\":{\"da...</td>\n",
       "      <td>871</td>\n",
       "    </tr>\n",
       "    <tr>\n",
       "      <th>1</th>\n",
       "      <td>打开烟机</td>\n",
       "      <td>{\"error_code\":0,\"error_msg\":\"OK\",\"result\":{\"da...</td>\n",
       "      <td>230</td>\n",
       "    </tr>\n",
       "    <tr>\n",
       "      <th>2</th>\n",
       "      <td>再大一点</td>\n",
       "      <td>{\"error_code\":0,\"error_msg\":\"OK\",\"result\":{\"da...</td>\n",
       "      <td>17</td>\n",
       "    </tr>\n",
       "    <tr>\n",
       "      <th>3</th>\n",
       "      <td>快速蒸</td>\n",
       "      <td>{\"error_code\":0,\"error_msg\":\"OK\",\"result\":{\"da...</td>\n",
       "      <td>3</td>\n",
       "    </tr>\n",
       "    <tr>\n",
       "      <th>4</th>\n",
       "      <td>打开蒸箱</td>\n",
       "      <td>{\"error_code\":0,\"error_msg\":\"OK\",\"result\":{\"da...</td>\n",
       "      <td>3</td>\n",
       "    </tr>\n",
       "    <tr>\n",
       "      <th>...</th>\n",
       "      <td>...</td>\n",
       "      <td>...</td>\n",
       "      <td>...</td>\n",
       "    </tr>\n",
       "    <tr>\n",
       "      <th>3130</th>\n",
       "      <td>当时当时当时是一缺陷的</td>\n",
       "      <td>{\"error_code\":0,\"error_msg\":\"OK\",\"result\":{\"se...</td>\n",
       "      <td>1</td>\n",
       "    </tr>\n",
       "    <tr>\n",
       "      <th>3131</th>\n",
       "      <td>三只小狗只好返回营地赢钱再来</td>\n",
       "      <td>{\"error_code\":0,\"error_msg\":\"OK\",\"result\":{\"se...</td>\n",
       "      <td>1</td>\n",
       "    </tr>\n",
       "    <tr>\n",
       "      <th>3132</th>\n",
       "      <td>帮我介绍一下云南的旅游</td>\n",
       "      <td>{\"error_code\":0,\"error_msg\":\"OK\",\"result\":{\"se...</td>\n",
       "      <td>1</td>\n",
       "    </tr>\n",
       "    <tr>\n",
       "      <th>3133</th>\n",
       "      <td>我那个我那个我那个手机可以打卡的</td>\n",
       "      <td>{\"error_code\":0,\"error_msg\":\"OK\",\"result\":{\"se...</td>\n",
       "      <td>1</td>\n",
       "    </tr>\n",
       "    <tr>\n",
       "      <th>3134</th>\n",
       "      <td>那个八九针吃上药然后再那个啥在那个啥上玩上上激动啥你说这只这个药不是白吃了</td>\n",
       "      <td>{\"error_code\":0,\"error_msg\":\"OK\",\"result\":{\"se...</td>\n",
       "      <td>1</td>\n",
       "    </tr>\n",
       "  </tbody>\n",
       "</table>\n",
       "<p>3135 rows × 3 columns</p>\n",
       "</div>"
      ],
      "text/plain": [
       "                                      query  \\\n",
       "0                                      关闭烟机   \n",
       "1                                      打开烟机   \n",
       "2                                      再大一点   \n",
       "3                                       快速蒸   \n",
       "4                                      打开蒸箱   \n",
       "...                                     ...   \n",
       "3130                            当时当时当时是一缺陷的   \n",
       "3131                         三只小狗只好返回营地赢钱再来   \n",
       "3132                            帮我介绍一下云南的旅游   \n",
       "3133                       我那个我那个我那个手机可以打卡的   \n",
       "3134  那个八九针吃上药然后再那个啥在那个啥上玩上上激动啥你说这只这个药不是白吃了   \n",
       "\n",
       "                                               response  count  \n",
       "0     {\"error_code\":0,\"error_msg\":\"OK\",\"result\":{\"da...    871  \n",
       "1     {\"error_code\":0,\"error_msg\":\"OK\",\"result\":{\"da...    230  \n",
       "2     {\"error_code\":0,\"error_msg\":\"OK\",\"result\":{\"da...     17  \n",
       "3     {\"error_code\":0,\"error_msg\":\"OK\",\"result\":{\"da...      3  \n",
       "4     {\"error_code\":0,\"error_msg\":\"OK\",\"result\":{\"da...      3  \n",
       "...                                                 ...    ...  \n",
       "3130  {\"error_code\":0,\"error_msg\":\"OK\",\"result\":{\"se...      1  \n",
       "3131  {\"error_code\":0,\"error_msg\":\"OK\",\"result\":{\"se...      1  \n",
       "3132  {\"error_code\":0,\"error_msg\":\"OK\",\"result\":{\"se...      1  \n",
       "3133  {\"error_code\":0,\"error_msg\":\"OK\",\"result\":{\"se...      1  \n",
       "3134  {\"error_code\":0,\"error_msg\":\"OK\",\"result\":{\"se...      1  \n",
       "\n",
       "[3135 rows x 3 columns]"
      ]
     },
     "execution_count": 22,
     "metadata": {},
     "output_type": "execute_result"
    }
   ],
   "source": [
    "mergeDf"
   ]
  },
  {
   "cell_type": "code",
   "execution_count": null,
   "metadata": {},
   "outputs": [],
   "source": []
  }
 ],
 "metadata": {
  "kernelspec": {
   "display_name": "mywork",
   "language": "python",
   "name": "python3"
  },
  "language_info": {
   "codemirror_mode": {
    "name": "ipython",
    "version": 3
   },
   "file_extension": ".py",
   "mimetype": "text/x-python",
   "name": "python",
   "nbconvert_exporter": "python",
   "pygments_lexer": "ipython3",
   "version": "3.8.18"
  }
 },
 "nbformat": 4,
 "nbformat_minor": 2
}
