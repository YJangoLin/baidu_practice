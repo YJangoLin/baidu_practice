{
 "cells": [
  {
   "cell_type": "code",
   "execution_count": 7,
   "metadata": {},
   "outputs": [],
   "source": [
    "import pandas as pd\n",
    "import numpy as np\n",
    "import os"
   ]
  },
  {
   "cell_type": "code",
   "execution_count": 8,
   "metadata": {},
   "outputs": [
    {
     "data": {
      "text/plain": [
       "['/Users/liangzonglin/workplace/project/baidu/bce-iot/du-home-log/data/task31/es_origin_data_052921:00:00.csv',\n",
       " '/Users/liangzonglin/workplace/project/baidu/bce-iot/du-home-log/data/task31/es_origin_data_052919:00:00.csv',\n",
       " '/Users/liangzonglin/workplace/project/baidu/bce-iot/du-home-log/data/task31/es_origin_data_052915:00:00.csv',\n",
       " '/Users/liangzonglin/workplace/project/baidu/bce-iot/du-home-log/data/task31/es_origin_data_053007:00:00.csv',\n",
       " '/Users/liangzonglin/workplace/project/baidu/bce-iot/du-home-log/data/task31/es_origin_data_053013:00:00.csv',\n",
       " '/Users/liangzonglin/workplace/project/baidu/bce-iot/du-home-log/data/task31/es_origin_data_053001:00:00.csv',\n",
       " '/Users/liangzonglin/workplace/project/baidu/bce-iot/du-home-log/data/task31/es_origin_data_053009:00:00.csv',\n",
       " '/Users/liangzonglin/workplace/project/baidu/bce-iot/du-home-log/data/task31/es_origin_data_052923:00:00.csv',\n",
       " '/Users/liangzonglin/workplace/project/baidu/bce-iot/du-home-log/data/task31/es_origin_data_052917:00:00.csv',\n",
       " '/Users/liangzonglin/workplace/project/baidu/bce-iot/du-home-log/data/task31/es_origin_data_053005:00:00.csv',\n",
       " '/Users/liangzonglin/workplace/project/baidu/bce-iot/du-home-log/data/task31/es_origin_data_053011:00:00.csv',\n",
       " '/Users/liangzonglin/workplace/project/baidu/bce-iot/du-home-log/data/task31/es_origin_data_053003:00:00.csv']"
      ]
     },
     "execution_count": 8,
     "metadata": {},
     "output_type": "execute_result"
    }
   ],
   "source": [
    "root = '/Users/liangzonglin/workplace/project/baidu/bce-iot/du-home-log'\n",
    "fileDir = \"data/task31\"\n",
    "filePath = []\n",
    "fileList = os.listdir(root+'/'+fileDir)\n",
    "for file in  fileList:\n",
    "    if file.endswith(\".csv\"):\n",
    "        filePath.append(f\"{root}/{fileDir}/{file}\")\n",
    "filePath"
   ]
  },
  {
   "cell_type": "code",
   "execution_count": 9,
   "metadata": {},
   "outputs": [
    {
     "data": {
      "text/html": [
       "<div>\n",
       "<style scoped>\n",
       "    .dataframe tbody tr th:only-of-type {\n",
       "        vertical-align: middle;\n",
       "    }\n",
       "\n",
       "    .dataframe tbody tr th {\n",
       "        vertical-align: top;\n",
       "    }\n",
       "\n",
       "    .dataframe thead th {\n",
       "        text-align: right;\n",
       "    }\n",
       "</style>\n",
       "<table border=\"1\" class=\"dataframe\">\n",
       "  <thead>\n",
       "    <tr style=\"text-align: right;\">\n",
       "      <th></th>\n",
       "      <th>ts</th>\n",
       "      <th>reqId</th>\n",
       "    </tr>\n",
       "  </thead>\n",
       "  <tbody>\n",
       "    <tr>\n",
       "      <th>0</th>\n",
       "      <td>2024-05-29 21:01:22.132</td>\n",
       "      <td>25169233-B10A-4D94-A32B-8F29517B5E65</td>\n",
       "    </tr>\n",
       "    <tr>\n",
       "      <th>1</th>\n",
       "      <td>2024-05-29 21:01:19.817</td>\n",
       "      <td>9E11108D-3A1B-4B9D-A15C-F60668C84F68</td>\n",
       "    </tr>\n",
       "    <tr>\n",
       "      <th>2</th>\n",
       "      <td>2024-05-29 21:01:18.733</td>\n",
       "      <td>2100030E-6167-43B9-8D4B-064A8A3352C1</td>\n",
       "    </tr>\n",
       "    <tr>\n",
       "      <th>3</th>\n",
       "      <td>2024-05-29 21:01:20.643</td>\n",
       "      <td>01AEAFB5-7CA8-4456-A71E-E3AF2A672C31</td>\n",
       "    </tr>\n",
       "    <tr>\n",
       "      <th>4</th>\n",
       "      <td>2024-05-29 21:01:22.998</td>\n",
       "      <td>B9766E03-7DF9-46A1-8832-F81595DF19D6</td>\n",
       "    </tr>\n",
       "  </tbody>\n",
       "</table>\n",
       "</div>"
      ],
      "text/plain": [
       "                        ts                                 reqId\n",
       "0  2024-05-29 21:01:22.132  25169233-B10A-4D94-A32B-8F29517B5E65\n",
       "1  2024-05-29 21:01:19.817  9E11108D-3A1B-4B9D-A15C-F60668C84F68\n",
       "2  2024-05-29 21:01:18.733  2100030E-6167-43B9-8D4B-064A8A3352C1\n",
       "3  2024-05-29 21:01:20.643  01AEAFB5-7CA8-4456-A71E-E3AF2A672C31\n",
       "4  2024-05-29 21:01:22.998  B9766E03-7DF9-46A1-8832-F81595DF19D6"
      ]
     },
     "execution_count": 9,
     "metadata": {},
     "output_type": "execute_result"
    }
   ],
   "source": [
    "dataList = []\n",
    "for file in filePath:\n",
    "    df = pd.read_csv(file)\n",
    "    df.dropna(axis=0, subset=[\"reqId\", \"ts\"], how='any', inplace=True)\n",
    "    dataList.append(df)\n",
    "datadf = pd.concat(dataList, axis=0, ignore_index=True)\n",
    "datadf.head()"
   ]
  },
  {
   "cell_type": "code",
   "execution_count": 10,
   "metadata": {},
   "outputs": [
    {
     "data": {
      "text/plain": [
       "['/Users/liangzonglin/workplace/project/baidu/bce-iot/du-home-log/data/task31/cacheData/es_origin_data_052921:00:00.csv',\n",
       " '/Users/liangzonglin/workplace/project/baidu/bce-iot/du-home-log/data/task31/cacheData/es_origin_data_052915:00:00.csv',\n",
       " '/Users/liangzonglin/workplace/project/baidu/bce-iot/du-home-log/data/task31/cacheData/es_origin_data_053009:00:00.csv',\n",
       " '/Users/liangzonglin/workplace/project/baidu/bce-iot/du-home-log/data/task31/cacheData/es_origin_data_053003:00:00.csv']"
      ]
     },
     "execution_count": 10,
     "metadata": {},
     "output_type": "execute_result"
    }
   ],
   "source": [
    "fileDir = \"data/task31/cacheData\"\n",
    "filePath = []\n",
    "fileList = os.listdir(root+'/'+fileDir)\n",
    "for file in  fileList:\n",
    "    if file.endswith(\".csv\"):\n",
    "        filePath.append(f\"{root}/{fileDir}/{file}\")\n",
    "filePath"
   ]
  },
  {
   "cell_type": "code",
   "execution_count": 11,
   "metadata": {},
   "outputs": [
    {
     "data": {
      "text/html": [
       "<div>\n",
       "<style scoped>\n",
       "    .dataframe tbody tr th:only-of-type {\n",
       "        vertical-align: middle;\n",
       "    }\n",
       "\n",
       "    .dataframe tbody tr th {\n",
       "        vertical-align: top;\n",
       "    }\n",
       "\n",
       "    .dataframe thead th {\n",
       "        text-align: right;\n",
       "    }\n",
       "</style>\n",
       "<table border=\"1\" class=\"dataframe\">\n",
       "  <thead>\n",
       "    <tr style=\"text-align: right;\">\n",
       "      <th></th>\n",
       "      <th>ts</th>\n",
       "      <th>reqId</th>\n",
       "    </tr>\n",
       "  </thead>\n",
       "  <tbody>\n",
       "    <tr>\n",
       "      <th>0</th>\n",
       "      <td>2024-05-29 21:01:21.417</td>\n",
       "      <td>01AEAFB5-7CA8-4456-A71E-E3AF2A672C31</td>\n",
       "    </tr>\n",
       "    <tr>\n",
       "      <th>1</th>\n",
       "      <td>2024-05-29 21:01:23.016</td>\n",
       "      <td>B9766E03-7DF9-46A1-8832-F81595DF19D6</td>\n",
       "    </tr>\n",
       "    <tr>\n",
       "      <th>2</th>\n",
       "      <td>2024-05-29 21:02:54.141</td>\n",
       "      <td>AE41326E-692C-4FE8-B670-D904FA795859</td>\n",
       "    </tr>\n",
       "    <tr>\n",
       "      <th>3</th>\n",
       "      <td>2024-05-29 21:02:19.076</td>\n",
       "      <td>11C920C5-A70B-42A2-AC92-B213A3DA92A8</td>\n",
       "    </tr>\n",
       "    <tr>\n",
       "      <th>4</th>\n",
       "      <td>2024-05-29 21:02:53.115</td>\n",
       "      <td>555A7C24-4C46-403A-9B4F-3B55B60239D3</td>\n",
       "    </tr>\n",
       "  </tbody>\n",
       "</table>\n",
       "</div>"
      ],
      "text/plain": [
       "                        ts                                 reqId\n",
       "0  2024-05-29 21:01:21.417  01AEAFB5-7CA8-4456-A71E-E3AF2A672C31\n",
       "1  2024-05-29 21:01:23.016  B9766E03-7DF9-46A1-8832-F81595DF19D6\n",
       "2  2024-05-29 21:02:54.141  AE41326E-692C-4FE8-B670-D904FA795859\n",
       "3  2024-05-29 21:02:19.076  11C920C5-A70B-42A2-AC92-B213A3DA92A8\n",
       "4  2024-05-29 21:02:53.115  555A7C24-4C46-403A-9B4F-3B55B60239D3"
      ]
     },
     "execution_count": 11,
     "metadata": {},
     "output_type": "execute_result"
    }
   ],
   "source": [
    "dataList = []\n",
    "for file in filePath:\n",
    "    df = pd.read_csv(file)\n",
    "    df.dropna(axis=0, subset=[\"reqId\", \"ts\"], how='any', inplace=True)\n",
    "    dataList.append(df)\n",
    "cacheDf = pd.concat(dataList, axis=0, ignore_index=True)\n",
    "cacheDf.head()"
   ]
  },
  {
   "cell_type": "code",
   "execution_count": 12,
   "metadata": {},
   "outputs": [
    {
     "data": {
      "text/plain": [
       "99228"
      ]
     },
     "execution_count": 12,
     "metadata": {},
     "output_type": "execute_result"
    }
   ],
   "source": [
    "len(cacheDf)"
   ]
  },
  {
   "cell_type": "code",
   "execution_count": 13,
   "metadata": {},
   "outputs": [
    {
     "data": {
      "text/html": [
       "<div>\n",
       "<style scoped>\n",
       "    .dataframe tbody tr th:only-of-type {\n",
       "        vertical-align: middle;\n",
       "    }\n",
       "\n",
       "    .dataframe tbody tr th {\n",
       "        vertical-align: top;\n",
       "    }\n",
       "\n",
       "    .dataframe thead th {\n",
       "        text-align: right;\n",
       "    }\n",
       "</style>\n",
       "<table border=\"1\" class=\"dataframe\">\n",
       "  <thead>\n",
       "    <tr style=\"text-align: right;\">\n",
       "      <th></th>\n",
       "      <th>ts</th>\n",
       "      <th>reqId</th>\n",
       "    </tr>\n",
       "  </thead>\n",
       "  <tbody>\n",
       "    <tr>\n",
       "      <th>0</th>\n",
       "      <td>2024-05-29 21:01:22.132</td>\n",
       "      <td>25169233-B10A-4D94-A32B-8F29517B5E65</td>\n",
       "    </tr>\n",
       "    <tr>\n",
       "      <th>1</th>\n",
       "      <td>2024-05-29 21:01:19.817</td>\n",
       "      <td>9E11108D-3A1B-4B9D-A15C-F60668C84F68</td>\n",
       "    </tr>\n",
       "    <tr>\n",
       "      <th>2</th>\n",
       "      <td>2024-05-29 21:01:18.733</td>\n",
       "      <td>2100030E-6167-43B9-8D4B-064A8A3352C1</td>\n",
       "    </tr>\n",
       "    <tr>\n",
       "      <th>5</th>\n",
       "      <td>2024-05-29 21:02:43.357</td>\n",
       "      <td>EAD4EAA7-5C92-4BEB-AC83-1A88D156693C</td>\n",
       "    </tr>\n",
       "    <tr>\n",
       "      <th>8</th>\n",
       "      <td>2024-05-29 21:02:19.639</td>\n",
       "      <td>D3BD5F15-130D-4F6D-8750-F2695CCFE625</td>\n",
       "    </tr>\n",
       "  </tbody>\n",
       "</table>\n",
       "</div>"
      ],
      "text/plain": [
       "                        ts                                 reqId\n",
       "0  2024-05-29 21:01:22.132  25169233-B10A-4D94-A32B-8F29517B5E65\n",
       "1  2024-05-29 21:01:19.817  9E11108D-3A1B-4B9D-A15C-F60668C84F68\n",
       "2  2024-05-29 21:01:18.733  2100030E-6167-43B9-8D4B-064A8A3352C1\n",
       "5  2024-05-29 21:02:43.357  EAD4EAA7-5C92-4BEB-AC83-1A88D156693C\n",
       "8  2024-05-29 21:02:19.639  D3BD5F15-130D-4F6D-8750-F2695CCFE625"
      ]
     },
     "execution_count": 13,
     "metadata": {},
     "output_type": "execute_result"
    }
   ],
   "source": [
    "sub_cache_df = datadf[~datadf[\"reqId\"].isin(cacheDf[\"reqId\"])].copy()\n",
    "sub_cache_df.head()"
   ]
  },
  {
   "cell_type": "code",
   "execution_count": 17,
   "metadata": {},
   "outputs": [
    {
     "name": "stdout",
     "output_type": "stream",
     "text": [
      "188482\n"
     ]
    }
   ],
   "source": [
    "print(datadf[\"reqId\"].nunique())"
   ]
  },
  {
   "cell_type": "code",
   "execution_count": 14,
   "metadata": {},
   "outputs": [
    {
     "data": {
      "text/plain": [
       "89254"
      ]
     },
     "execution_count": 14,
     "metadata": {},
     "output_type": "execute_result"
    }
   ],
   "source": [
    "sub_cache_df[\"reqId\"].nunique()"
   ]
  },
  {
   "cell_type": "code",
   "execution_count": 18,
   "metadata": {},
   "outputs": [
    {
     "data": {
      "text/html": [
       "<div>\n",
       "<style scoped>\n",
       "    .dataframe tbody tr th:only-of-type {\n",
       "        vertical-align: middle;\n",
       "    }\n",
       "\n",
       "    .dataframe tbody tr th {\n",
       "        vertical-align: top;\n",
       "    }\n",
       "\n",
       "    .dataframe thead th {\n",
       "        text-align: right;\n",
       "    }\n",
       "</style>\n",
       "<table border=\"1\" class=\"dataframe\">\n",
       "  <thead>\n",
       "    <tr style=\"text-align: right;\">\n",
       "      <th></th>\n",
       "      <th>ts</th>\n",
       "      <th>reqId</th>\n",
       "      <th>second</th>\n",
       "    </tr>\n",
       "  </thead>\n",
       "  <tbody>\n",
       "    <tr>\n",
       "      <th>0</th>\n",
       "      <td>2024-05-29 21:01:22.132</td>\n",
       "      <td>25169233-B10A-4D94-A32B-8F29517B5E65</td>\n",
       "      <td>2024-05-29 21:01:22</td>\n",
       "    </tr>\n",
       "    <tr>\n",
       "      <th>1</th>\n",
       "      <td>2024-05-29 21:01:19.817</td>\n",
       "      <td>9E11108D-3A1B-4B9D-A15C-F60668C84F68</td>\n",
       "      <td>2024-05-29 21:01:19</td>\n",
       "    </tr>\n",
       "    <tr>\n",
       "      <th>2</th>\n",
       "      <td>2024-05-29 21:01:18.733</td>\n",
       "      <td>2100030E-6167-43B9-8D4B-064A8A3352C1</td>\n",
       "      <td>2024-05-29 21:01:18</td>\n",
       "    </tr>\n",
       "    <tr>\n",
       "      <th>5</th>\n",
       "      <td>2024-05-29 21:02:43.357</td>\n",
       "      <td>EAD4EAA7-5C92-4BEB-AC83-1A88D156693C</td>\n",
       "      <td>2024-05-29 21:02:43</td>\n",
       "    </tr>\n",
       "    <tr>\n",
       "      <th>8</th>\n",
       "      <td>2024-05-29 21:02:19.639</td>\n",
       "      <td>D3BD5F15-130D-4F6D-8750-F2695CCFE625</td>\n",
       "      <td>2024-05-29 21:02:19</td>\n",
       "    </tr>\n",
       "  </tbody>\n",
       "</table>\n",
       "</div>"
      ],
      "text/plain": [
       "                        ts                                 reqId  \\\n",
       "0  2024-05-29 21:01:22.132  25169233-B10A-4D94-A32B-8F29517B5E65   \n",
       "1  2024-05-29 21:01:19.817  9E11108D-3A1B-4B9D-A15C-F60668C84F68   \n",
       "2  2024-05-29 21:01:18.733  2100030E-6167-43B9-8D4B-064A8A3352C1   \n",
       "5  2024-05-29 21:02:43.357  EAD4EAA7-5C92-4BEB-AC83-1A88D156693C   \n",
       "8  2024-05-29 21:02:19.639  D3BD5F15-130D-4F6D-8750-F2695CCFE625   \n",
       "\n",
       "                second  \n",
       "0  2024-05-29 21:01:22  \n",
       "1  2024-05-29 21:01:19  \n",
       "2  2024-05-29 21:01:18  \n",
       "5  2024-05-29 21:02:43  \n",
       "8  2024-05-29 21:02:19  "
      ]
     },
     "execution_count": 18,
     "metadata": {},
     "output_type": "execute_result"
    }
   ],
   "source": [
    "def getSecond(x):\n",
    "    return x[:-4]\n",
    "sub_cache_df.loc[:, \"second\"] = sub_cache_df[\"ts\"].apply(getSecond)\n",
    "sub_cache_df.head()"
   ]
  },
  {
   "cell_type": "code",
   "execution_count": 19,
   "metadata": {},
   "outputs": [
    {
     "data": {
      "text/plain": [
       "89254"
      ]
     },
     "execution_count": 19,
     "metadata": {},
     "output_type": "execute_result"
    }
   ],
   "source": [
    "len(sub_cache_df)"
   ]
  },
  {
   "cell_type": "code",
   "execution_count": 20,
   "metadata": {},
   "outputs": [
    {
     "name": "stdout",
     "output_type": "stream",
     "text": [
      "89254\n"
     ]
    },
    {
     "data": {
      "text/html": [
       "<div>\n",
       "<style scoped>\n",
       "    .dataframe tbody tr th:only-of-type {\n",
       "        vertical-align: middle;\n",
       "    }\n",
       "\n",
       "    .dataframe tbody tr th {\n",
       "        vertical-align: top;\n",
       "    }\n",
       "\n",
       "    .dataframe thead th {\n",
       "        text-align: right;\n",
       "    }\n",
       "</style>\n",
       "<table border=\"1\" class=\"dataframe\">\n",
       "  <thead>\n",
       "    <tr style=\"text-align: right;\">\n",
       "      <th></th>\n",
       "      <th>ts</th>\n",
       "      <th>reqId</th>\n",
       "    </tr>\n",
       "    <tr>\n",
       "      <th>second</th>\n",
       "      <th></th>\n",
       "      <th></th>\n",
       "    </tr>\n",
       "  </thead>\n",
       "  <tbody>\n",
       "    <tr>\n",
       "      <th>2024-05-29 15:00:02</th>\n",
       "      <td>1</td>\n",
       "      <td>1</td>\n",
       "    </tr>\n",
       "    <tr>\n",
       "      <th>2024-05-29 15:00:03</th>\n",
       "      <td>2</td>\n",
       "      <td>2</td>\n",
       "    </tr>\n",
       "    <tr>\n",
       "      <th>2024-05-29 15:00:04</th>\n",
       "      <td>2</td>\n",
       "      <td>2</td>\n",
       "    </tr>\n",
       "    <tr>\n",
       "      <th>2024-05-29 15:00:09</th>\n",
       "      <td>2</td>\n",
       "      <td>2</td>\n",
       "    </tr>\n",
       "    <tr>\n",
       "      <th>2024-05-29 15:00:10</th>\n",
       "      <td>1</td>\n",
       "      <td>1</td>\n",
       "    </tr>\n",
       "    <tr>\n",
       "      <th>...</th>\n",
       "      <td>...</td>\n",
       "      <td>...</td>\n",
       "    </tr>\n",
       "    <tr>\n",
       "      <th>2024-05-30 14:59:52</th>\n",
       "      <td>1</td>\n",
       "      <td>1</td>\n",
       "    </tr>\n",
       "    <tr>\n",
       "      <th>2024-05-30 14:59:54</th>\n",
       "      <td>1</td>\n",
       "      <td>1</td>\n",
       "    </tr>\n",
       "    <tr>\n",
       "      <th>2024-05-30 14:59:55</th>\n",
       "      <td>1</td>\n",
       "      <td>1</td>\n",
       "    </tr>\n",
       "    <tr>\n",
       "      <th>2024-05-30 14:59:57</th>\n",
       "      <td>1</td>\n",
       "      <td>1</td>\n",
       "    </tr>\n",
       "    <tr>\n",
       "      <th>2024-05-30 14:59:58</th>\n",
       "      <td>1</td>\n",
       "      <td>1</td>\n",
       "    </tr>\n",
       "  </tbody>\n",
       "</table>\n",
       "<p>47033 rows × 2 columns</p>\n",
       "</div>"
      ],
      "text/plain": [
       "                     ts  reqId\n",
       "second                        \n",
       "2024-05-29 15:00:02   1      1\n",
       "2024-05-29 15:00:03   2      2\n",
       "2024-05-29 15:00:04   2      2\n",
       "2024-05-29 15:00:09   2      2\n",
       "2024-05-29 15:00:10   1      1\n",
       "...                  ..    ...\n",
       "2024-05-30 14:59:52   1      1\n",
       "2024-05-30 14:59:54   1      1\n",
       "2024-05-30 14:59:55   1      1\n",
       "2024-05-30 14:59:57   1      1\n",
       "2024-05-30 14:59:58   1      1\n",
       "\n",
       "[47033 rows x 2 columns]"
      ]
     },
     "execution_count": 20,
     "metadata": {},
     "output_type": "execute_result"
    }
   ],
   "source": [
    "# 去重\n",
    "sub_cache_df.drop_duplicates(subset=\"reqId\", keep=\"first\", inplace=True)\n",
    "print(len(sub_cache_df))\n",
    "sub_cache_df.groupby(\"second\").count()"
   ]
  },
  {
   "cell_type": "code",
   "execution_count": 21,
   "metadata": {},
   "outputs": [
    {
     "data": {
      "text/plain": [
       "10"
      ]
     },
     "execution_count": 21,
     "metadata": {},
     "output_type": "execute_result"
    }
   ],
   "source": [
    "sub_cache_df.groupby(\"second\").count()[\"ts\"].max()"
   ]
  },
  {
   "cell_type": "code",
   "execution_count": 22,
   "metadata": {},
   "outputs": [
    {
     "data": {
      "text/plain": [
       "15"
      ]
     },
     "execution_count": 22,
     "metadata": {},
     "output_type": "execute_result"
    }
   ],
   "source": [
    "def getSecond(x):\n",
    "    return x[:-4]\n",
    "datadf.loc[:, \"second\"] = datadf[\"ts\"].apply(getSecond)\n",
    "datadf.groupby(\"second\").count()[\"ts\"].max()"
   ]
  },
  {
   "cell_type": "code",
   "execution_count": null,
   "metadata": {},
   "outputs": [],
   "source": []
  }
 ],
 "metadata": {
  "kernelspec": {
   "display_name": "mywork",
   "language": "python",
   "name": "python3"
  },
  "language_info": {
   "codemirror_mode": {
    "name": "ipython",
    "version": 3
   },
   "file_extension": ".py",
   "mimetype": "text/x-python",
   "name": "python",
   "nbconvert_exporter": "python",
   "pygments_lexer": "ipython3",
   "version": "3.8.18"
  }
 },
 "nbformat": 4,
 "nbformat_minor": 2
}
