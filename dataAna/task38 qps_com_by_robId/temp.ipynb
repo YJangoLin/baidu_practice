{
 "cells": [
  {
   "cell_type": "code",
   "execution_count": 19,
   "metadata": {},
   "outputs": [],
   "source": [
    "import pandas as pd\n",
    "import numpy as np\n",
    "\n",
    "from pyecharts.charts import Line\n",
    "from pyecharts import options as opts\n",
    "from pyecharts.globals import ThemeType\n",
    "\n",
    "df = pd.read_excel(\"/Users/liangzonglin/workplace/project/temp/baidu/bce-iot/du-home-log/bot_id_qps_rs.xlsx\")\n",
    "df[\"date\"] = pd.to_datetime(df[\"date\"])"
   ]
  },
  {
   "cell_type": "code",
   "execution_count": 20,
   "metadata": {},
   "outputs": [
    {
     "data": {
      "text/html": [
       "<div>\n",
       "<style scoped>\n",
       "    .dataframe tbody tr th:only-of-type {\n",
       "        vertical-align: middle;\n",
       "    }\n",
       "\n",
       "    .dataframe tbody tr th {\n",
       "        vertical-align: top;\n",
       "    }\n",
       "\n",
       "    .dataframe thead th {\n",
       "        text-align: right;\n",
       "    }\n",
       "</style>\n",
       "<table border=\"1\" class=\"dataframe\">\n",
       "  <thead>\n",
       "    <tr style=\"text-align: right;\">\n",
       "      <th></th>\n",
       "      <th>bot_id</th>\n",
       "      <th>date</th>\n",
       "      <th>qps</th>\n",
       "    </tr>\n",
       "  </thead>\n",
       "  <tbody>\n",
       "    <tr>\n",
       "      <th>0</th>\n",
       "      <td>aux</td>\n",
       "      <td>2024-06-19 15:00:01</td>\n",
       "      <td>1</td>\n",
       "    </tr>\n",
       "    <tr>\n",
       "      <th>1</th>\n",
       "      <td>aux</td>\n",
       "      <td>2024-06-19 15:01:08</td>\n",
       "      <td>1</td>\n",
       "    </tr>\n",
       "    <tr>\n",
       "      <th>2</th>\n",
       "      <td>aux</td>\n",
       "      <td>2024-06-19 15:01:44</td>\n",
       "      <td>1</td>\n",
       "    </tr>\n",
       "    <tr>\n",
       "      <th>3</th>\n",
       "      <td>aux</td>\n",
       "      <td>2024-06-19 15:03:36</td>\n",
       "      <td>1</td>\n",
       "    </tr>\n",
       "    <tr>\n",
       "      <th>4</th>\n",
       "      <td>aux</td>\n",
       "      <td>2024-06-19 15:06:04</td>\n",
       "      <td>1</td>\n",
       "    </tr>\n",
       "  </tbody>\n",
       "</table>\n",
       "</div>"
      ],
      "text/plain": [
       "  bot_id                date  qps\n",
       "0    aux 2024-06-19 15:00:01    1\n",
       "1    aux 2024-06-19 15:01:08    1\n",
       "2    aux 2024-06-19 15:01:44    1\n",
       "3    aux 2024-06-19 15:03:36    1\n",
       "4    aux 2024-06-19 15:06:04    1"
      ]
     },
     "execution_count": 20,
     "metadata": {},
     "output_type": "execute_result"
    }
   ],
   "source": [
    "df.head()"
   ]
  },
  {
   "cell_type": "code",
   "execution_count": 24,
   "metadata": {},
   "outputs": [
    {
     "data": {
      "text/plain": [
       "'/Users/liangzonglin/workplace/project/temp/baidu/bce-iot/du-home-log/dags/temp/task38/qps_line_chart.html'"
      ]
     },
     "execution_count": 24,
     "metadata": {},
     "output_type": "execute_result"
    }
   ],
   "source": [
    "\n",
    "# 绘制折线\n",
    "# 创建折线图\n",
    "line = Line(init_opts=opts.InitOpts(theme=ThemeType.LIGHT, width='1200px', height='400px'))\n",
    "\n",
    "# 添加数据\n",
    "line.add_xaxis(xaxis_data = df[\"date\"].tolist())\n",
    "line.add_yaxis(\"qps\", df[\"qps\"].tolist())\n",
    "# 设置全局选项\n",
    "line.set_global_opts(\n",
    "    title_opts=opts.TitleOpts(title=f\"qps时间分布\"),\n",
    "    xaxis_opts=opts.AxisOpts(\n",
    "        type_=\"time\",\n",
    "        is_scale=True,\n",
    "        boundary_gap=False,\n",
    "        axislabel_opts=opts.LabelOpts(formatter=\"{dd}-{hh}:{mm}:{ss}\"),\n",
    "    ),\n",
    "    datazoom_opts=[opts.DataZoomOpts()],\n",
    ")\n",
    "line.set_series_opts(\n",
    "    markline_opts=opts.MarkLineOpts(\n",
    "        data=[\n",
    "            opts.MarkLineItem(y=df[\"qps\"].mean(), name=\"平均值\"),\n",
    "        ],\n",
    "        linestyle_opts=opts.LineStyleOpts(width = 2,color = 'red') \n",
    "    ),\n",
    ")\n",
    "# line.add_hline(30, opts.LineStyleOpts(color=\"red\", width=2))\n",
    "# line.set_global_opts(title_opts=opts.TitleOpts(title=\"30qps_not_sleep\"))\n",
    "# 渲染图表到文件\n",
    "line.render(f\"qps_line_chart.html\", width=1200, height=600)"
   ]
  },
  {
   "cell_type": "code",
   "execution_count": null,
   "metadata": {},
   "outputs": [],
   "source": []
  }
 ],
 "metadata": {
  "kernelspec": {
   "display_name": "mywork",
   "language": "python",
   "name": "python3"
  },
  "language_info": {
   "codemirror_mode": {
    "name": "ipython",
    "version": 3
   },
   "file_extension": ".py",
   "mimetype": "text/x-python",
   "name": "python",
   "nbconvert_exporter": "python",
   "pygments_lexer": "ipython3",
   "version": "3.8.18"
  }
 },
 "nbformat": 4,
 "nbformat_minor": 2
}
