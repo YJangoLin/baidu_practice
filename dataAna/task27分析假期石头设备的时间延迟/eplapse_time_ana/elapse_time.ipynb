{
 "cells": [
  {
   "cell_type": "code",
   "execution_count": 21,
   "metadata": {},
   "outputs": [],
   "source": [
    "\n",
    "import pandas as pd\n",
    "import os\n",
    "import sys\n",
    "sys.path.append(\"/Users/liangzonglin/workplace/project/baidu/bce-iot/du-home-log\")\n",
    "# from dags.temp.task27_stone_time.stone_time_ana import Analysis as anatime\n",
    "# from stone_elapse_time_ana import Analysis"
   ]
  },
  {
   "cell_type": "code",
   "execution_count": 22,
   "metadata": {},
   "outputs": [
    {
     "data": {
      "text/html": [
       "<div>\n",
       "<style scoped>\n",
       "    .dataframe tbody tr th:only-of-type {\n",
       "        vertical-align: middle;\n",
       "    }\n",
       "\n",
       "    .dataframe tbody tr th {\n",
       "        vertical-align: top;\n",
       "    }\n",
       "\n",
       "    .dataframe thead th {\n",
       "        text-align: right;\n",
       "    }\n",
       "</style>\n",
       "<table border=\"1\" class=\"dataframe\">\n",
       "  <thead>\n",
       "    <tr style=\"text-align: right;\">\n",
       "      <th></th>\n",
       "      <th>ts_x</th>\n",
       "      <th>region</th>\n",
       "      <th>seg</th>\n",
       "      <th>reqId</th>\n",
       "      <th>domain_x</th>\n",
       "      <th>req</th>\n",
       "      <th>logId</th>\n",
       "      <th>ts_y</th>\n",
       "      <th>module</th>\n",
       "      <th>log_id</th>\n",
       "      <th>domain_y</th>\n",
       "      <th>elapse_time</th>\n",
       "    </tr>\n",
       "  </thead>\n",
       "  <tbody>\n",
       "    <tr>\n",
       "      <th>0</th>\n",
       "      <td>2024-05-18 12:02:17.715</td>\n",
       "      <td>SZ</td>\n",
       "      <td>ASR2IOT</td>\n",
       "      <td>57602c86e7da4b4f97a1b26fb40f0ae6</td>\n",
       "      <td>NaN</td>\n",
       "      <td>NaN</td>\n",
       "      <td>B64DD00D-8DAF-4F87-A3A4-442D77D316A9</td>\n",
       "      <td>2024-05-18 12:02:17,732</td>\n",
       "      <td>nlu-infer-alarm</td>\n",
       "      <td>B64DD00D-8DAF-4F87-A3A4-442D77D316A9</td>\n",
       "      <td>alarm</td>\n",
       "      <td>9.0</td>\n",
       "    </tr>\n",
       "    <tr>\n",
       "      <th>1</th>\n",
       "      <td>2024-05-18 12:02:17.715</td>\n",
       "      <td>SZ</td>\n",
       "      <td>ASR2IOT</td>\n",
       "      <td>57602c86e7da4b4f97a1b26fb40f0ae6</td>\n",
       "      <td>NaN</td>\n",
       "      <td>NaN</td>\n",
       "      <td>B64DD00D-8DAF-4F87-A3A4-442D77D316A9</td>\n",
       "      <td>2024-05-18 12:02:17,732</td>\n",
       "      <td>nlu-infer-time</td>\n",
       "      <td>B64DD00D-8DAF-4F87-A3A4-442D77D316A9</td>\n",
       "      <td>time</td>\n",
       "      <td>9.0</td>\n",
       "    </tr>\n",
       "    <tr>\n",
       "      <th>2</th>\n",
       "      <td>2024-05-18 12:02:17.715</td>\n",
       "      <td>SZ</td>\n",
       "      <td>ASR2IOT</td>\n",
       "      <td>57602c86e7da4b4f97a1b26fb40f0ae6</td>\n",
       "      <td>NaN</td>\n",
       "      <td>NaN</td>\n",
       "      <td>B64DD00D-8DAF-4F87-A3A4-442D77D316A9</td>\n",
       "      <td>2024-05-18 12:02:17,730</td>\n",
       "      <td>nlu-infer-sys-peripheral</td>\n",
       "      <td>B64DD00D-8DAF-4F87-A3A4-442D77D316A9</td>\n",
       "      <td>SYS_PERIPHERALS</td>\n",
       "      <td>7.0</td>\n",
       "    </tr>\n",
       "    <tr>\n",
       "      <th>3</th>\n",
       "      <td>2024-05-18 12:02:17.715</td>\n",
       "      <td>SZ</td>\n",
       "      <td>ASR2IOT</td>\n",
       "      <td>57602c86e7da4b4f97a1b26fb40f0ae6</td>\n",
       "      <td>NaN</td>\n",
       "      <td>NaN</td>\n",
       "      <td>B64DD00D-8DAF-4F87-A3A4-442D77D316A9</td>\n",
       "      <td>2024-05-18 12:02:17,738</td>\n",
       "      <td>nlu-infer-sys-parameter</td>\n",
       "      <td>B64DD00D-8DAF-4F87-A3A4-442D77D316A9</td>\n",
       "      <td>sys_parameter</td>\n",
       "      <td>15.0</td>\n",
       "    </tr>\n",
       "    <tr>\n",
       "      <th>4</th>\n",
       "      <td>2024-05-18 12:02:17.715</td>\n",
       "      <td>SZ</td>\n",
       "      <td>ASR2IOT</td>\n",
       "      <td>57602c86e7da4b4f97a1b26fb40f0ae6</td>\n",
       "      <td>NaN</td>\n",
       "      <td>NaN</td>\n",
       "      <td>B64DD00D-8DAF-4F87-A3A4-442D77D316A9</td>\n",
       "      <td>2024-05-18 12:02:17,739</td>\n",
       "      <td>nlu-infer-greeting</td>\n",
       "      <td>B64DD00D-8DAF-4F87-A3A4-442D77D316A9</td>\n",
       "      <td>greeting</td>\n",
       "      <td>16.0</td>\n",
       "    </tr>\n",
       "  </tbody>\n",
       "</table>\n",
       "</div>"
      ],
      "text/plain": [
       "                      ts_x region      seg                             reqId  \\\n",
       "0  2024-05-18 12:02:17.715     SZ  ASR2IOT  57602c86e7da4b4f97a1b26fb40f0ae6   \n",
       "1  2024-05-18 12:02:17.715     SZ  ASR2IOT  57602c86e7da4b4f97a1b26fb40f0ae6   \n",
       "2  2024-05-18 12:02:17.715     SZ  ASR2IOT  57602c86e7da4b4f97a1b26fb40f0ae6   \n",
       "3  2024-05-18 12:02:17.715     SZ  ASR2IOT  57602c86e7da4b4f97a1b26fb40f0ae6   \n",
       "4  2024-05-18 12:02:17.715     SZ  ASR2IOT  57602c86e7da4b4f97a1b26fb40f0ae6   \n",
       "\n",
       "   domain_x  req                                 logId  \\\n",
       "0       NaN  NaN  B64DD00D-8DAF-4F87-A3A4-442D77D316A9   \n",
       "1       NaN  NaN  B64DD00D-8DAF-4F87-A3A4-442D77D316A9   \n",
       "2       NaN  NaN  B64DD00D-8DAF-4F87-A3A4-442D77D316A9   \n",
       "3       NaN  NaN  B64DD00D-8DAF-4F87-A3A4-442D77D316A9   \n",
       "4       NaN  NaN  B64DD00D-8DAF-4F87-A3A4-442D77D316A9   \n",
       "\n",
       "                      ts_y                    module  \\\n",
       "0  2024-05-18 12:02:17,732           nlu-infer-alarm   \n",
       "1  2024-05-18 12:02:17,732            nlu-infer-time   \n",
       "2  2024-05-18 12:02:17,730  nlu-infer-sys-peripheral   \n",
       "3  2024-05-18 12:02:17,738   nlu-infer-sys-parameter   \n",
       "4  2024-05-18 12:02:17,739        nlu-infer-greeting   \n",
       "\n",
       "                                 log_id         domain_y  elapse_time  \n",
       "0  B64DD00D-8DAF-4F87-A3A4-442D77D316A9            alarm          9.0  \n",
       "1  B64DD00D-8DAF-4F87-A3A4-442D77D316A9             time          9.0  \n",
       "2  B64DD00D-8DAF-4F87-A3A4-442D77D316A9  SYS_PERIPHERALS          7.0  \n",
       "3  B64DD00D-8DAF-4F87-A3A4-442D77D316A9    sys_parameter         15.0  \n",
       "4  B64DD00D-8DAF-4F87-A3A4-442D77D316A9         greeting         16.0  "
      ]
     },
     "execution_count": 22,
     "metadata": {},
     "output_type": "execute_result"
    }
   ],
   "source": [
    "\n",
    "merge_df = pd.read_csv(\"/Users/liangzonglin/workplace/project/baidu/bce-iot/du-home-log/merge.csv\")\n",
    "merge_df.head()"
   ]
  },
  {
   "cell_type": "code",
   "execution_count": 15,
   "metadata": {},
   "outputs": [
    {
     "data": {
      "text/html": [
       "<div>\n",
       "<style scoped>\n",
       "    .dataframe tbody tr th:only-of-type {\n",
       "        vertical-align: middle;\n",
       "    }\n",
       "\n",
       "    .dataframe tbody tr th {\n",
       "        vertical-align: top;\n",
       "    }\n",
       "\n",
       "    .dataframe thead th {\n",
       "        text-align: right;\n",
       "    }\n",
       "</style>\n",
       "<table border=\"1\" class=\"dataframe\">\n",
       "  <thead>\n",
       "    <tr style=\"text-align: right;\">\n",
       "      <th></th>\n",
       "      <th>ts_x</th>\n",
       "      <th>region</th>\n",
       "      <th>seg</th>\n",
       "      <th>reqId</th>\n",
       "      <th>domain_x</th>\n",
       "      <th>req</th>\n",
       "      <th>logId</th>\n",
       "      <th>ts_y</th>\n",
       "      <th>log_id</th>\n",
       "      <th>domain_y</th>\n",
       "      <th>elapse_time</th>\n",
       "    </tr>\n",
       "  </thead>\n",
       "  <tbody>\n",
       "  </tbody>\n",
       "</table>\n",
       "</div>"
      ],
      "text/plain": [
       "Empty DataFrame\n",
       "Columns: [ts_x, region, seg, reqId, domain_x, req, logId, ts_y, log_id, domain_y, elapse_time]\n",
       "Index: []"
      ]
     },
     "execution_count": 15,
     "metadata": {},
     "output_type": "execute_result"
    }
   ],
   "source": [
    "merge_df[merge_df[\"region\"]==\"BJ\"].head()"
   ]
  },
  {
   "cell_type": "code",
   "execution_count": 23,
   "metadata": {},
   "outputs": [
    {
     "data": {
      "text/plain": [
       "roborock_clean_function         297134\n",
       "roborock_parameter_control      230484\n",
       "alarm                           228146\n",
       "time                            228146\n",
       "SYS_PERIPHERALS                 228146\n",
       "greeting                        228146\n",
       "phone                           228146\n",
       "space                           228146\n",
       "roborock_schedule_management    228146\n",
       "sys_parameter                   228142\n",
       "sys_profile                     228142\n",
       "sys_command                     228142\n",
       "app_management                  228142\n",
       "roborock_other_function         228142\n",
       "other                           156812\n",
       "Name: domain_y, dtype: int64"
      ]
     },
     "execution_count": 23,
     "metadata": {},
     "output_type": "execute_result"
    }
   ],
   "source": [
    "merge_df[\"domain_y\"].value_counts()"
   ]
  },
  {
   "cell_type": "code",
   "execution_count": 9,
   "metadata": {},
   "outputs": [
    {
     "data": {
      "text/plain": [
       "SZ    1180648\n",
       "GZ    1146803\n",
       "Name: region, dtype: int64"
      ]
     },
     "execution_count": 9,
     "metadata": {},
     "output_type": "execute_result"
    }
   ],
   "source": [
    "merge_df[\"region\"].value_counts()"
   ]
  },
  {
   "cell_type": "code",
   "execution_count": 10,
   "metadata": {},
   "outputs": [
    {
     "data": {
      "text/html": [
       "<div>\n",
       "<style scoped>\n",
       "    .dataframe tbody tr th:only-of-type {\n",
       "        vertical-align: middle;\n",
       "    }\n",
       "\n",
       "    .dataframe tbody tr th {\n",
       "        vertical-align: top;\n",
       "    }\n",
       "\n",
       "    .dataframe thead th {\n",
       "        text-align: right;\n",
       "    }\n",
       "</style>\n",
       "<table border=\"1\" class=\"dataframe\">\n",
       "  <thead>\n",
       "    <tr style=\"text-align: right;\">\n",
       "      <th></th>\n",
       "      <th>ts</th>\n",
       "      <th>region</th>\n",
       "      <th>seg</th>\n",
       "      <th>reqId</th>\n",
       "      <th>domain</th>\n",
       "      <th>logId</th>\n",
       "      <th>req</th>\n",
       "    </tr>\n",
       "  </thead>\n",
       "  <tbody>\n",
       "    <tr>\n",
       "      <th>0</th>\n",
       "      <td>2024-05-18 00:00:05.287</td>\n",
       "      <td>SZ</td>\n",
       "      <td>NaN</td>\n",
       "      <td>78be9fe8acd34495b504a75f1d2df5a7</td>\n",
       "      <td>NaN</td>\n",
       "      <td>NaN</td>\n",
       "      <td>NaN</td>\n",
       "    </tr>\n",
       "    <tr>\n",
       "      <th>1</th>\n",
       "      <td>2024-05-18 00:00:05.289</td>\n",
       "      <td>SZ</td>\n",
       "      <td>NaN</td>\n",
       "      <td>78be9fe8acd34495b504a75f1d2df5a7</td>\n",
       "      <td>NaN</td>\n",
       "      <td>NaN</td>\n",
       "      <td>NaN</td>\n",
       "    </tr>\n",
       "    <tr>\n",
       "      <th>2</th>\n",
       "      <td>2024-05-18 00:00:05.295</td>\n",
       "      <td>SZ</td>\n",
       "      <td>NaN</td>\n",
       "      <td>78be9fe8acd34495b504a75f1d2df5a7</td>\n",
       "      <td>NaN</td>\n",
       "      <td>NaN</td>\n",
       "      <td>NaN</td>\n",
       "    </tr>\n",
       "    <tr>\n",
       "      <th>3</th>\n",
       "      <td>2024-05-18 00:00:05.295</td>\n",
       "      <td>SZ</td>\n",
       "      <td>ASR2IOT</td>\n",
       "      <td>78be9fe8acd34495b504a75f1d2df5a7</td>\n",
       "      <td>NaN</td>\n",
       "      <td>ED1AAA62-7A6A-4FCB-8448-907B3109E405</td>\n",
       "      <td>NaN</td>\n",
       "    </tr>\n",
       "    <tr>\n",
       "      <th>4</th>\n",
       "      <td>2024-05-18 00:00:05.296</td>\n",
       "      <td>SZ</td>\n",
       "      <td>NaN</td>\n",
       "      <td>78be9fe8acd34495b504a75f1d2df5a7</td>\n",
       "      <td>NaN</td>\n",
       "      <td>NaN</td>\n",
       "      <td>NaN</td>\n",
       "    </tr>\n",
       "  </tbody>\n",
       "</table>\n",
       "</div>"
      ],
      "text/plain": [
       "                        ts region      seg                             reqId  \\\n",
       "0  2024-05-18 00:00:05.287     SZ      NaN  78be9fe8acd34495b504a75f1d2df5a7   \n",
       "1  2024-05-18 00:00:05.289     SZ      NaN  78be9fe8acd34495b504a75f1d2df5a7   \n",
       "2  2024-05-18 00:00:05.295     SZ      NaN  78be9fe8acd34495b504a75f1d2df5a7   \n",
       "3  2024-05-18 00:00:05.295     SZ  ASR2IOT  78be9fe8acd34495b504a75f1d2df5a7   \n",
       "4  2024-05-18 00:00:05.296     SZ      NaN  78be9fe8acd34495b504a75f1d2df5a7   \n",
       "\n",
       "  domain                                 logId  req  \n",
       "0    NaN                                   NaN  NaN  \n",
       "1    NaN                                   NaN  NaN  \n",
       "2    NaN                                   NaN  NaN  \n",
       "3    NaN  ED1AAA62-7A6A-4FCB-8448-907B3109E405  NaN  \n",
       "4    NaN                                   NaN  NaN  "
      ]
     },
     "execution_count": 10,
     "metadata": {},
     "output_type": "execute_result"
    }
   ],
   "source": [
    "time_df = pd.read_csv(\"/Users/liangzonglin/workplace/project/baidu/bce-iot/du-home-log/data/version2_0/2024-05-18/queryByresId/es_origin_data_00:00:00.csv\")\n",
    "time_df.head()"
   ]
  },
  {
   "cell_type": "code",
   "execution_count": 16,
   "metadata": {},
   "outputs": [
    {
     "data": {
      "text/plain": [
       "GZ    40820\n",
       "SZ    28678\n",
       "BD    22209\n",
       "Name: region, dtype: int64"
      ]
     },
     "execution_count": 16,
     "metadata": {},
     "output_type": "execute_result"
    }
   ],
   "source": [
    "time_df[\"region\"].value_counts()"
   ]
  },
  {
   "cell_type": "code",
   "execution_count": 17,
   "metadata": {},
   "outputs": [
    {
     "name": "stderr",
     "output_type": "stream",
     "text": [
      "/var/folders/81/j0bvbxw56kx30ybjrybjc9kr0000gn/T/ipykernel_49681/3021399360.py:1: SettingWithCopyWarning: \n",
      "A value is trying to be set on a copy of a slice from a DataFrame.\n",
      "Try using .loc[row_indexer,col_indexer] = value instead\n",
      "\n",
      "See the caveats in the documentation: https://pandas.pydata.org/pandas-docs/stable/user_guide/indexing.html#returning-a-view-versus-a-copy\n",
      "  time_df[time_df[\"region\"]== \"BD\"][\"region\"] = \"BJ\"\n"
     ]
    }
   ],
   "source": [
    "time_df[time_df[\"region\"]== \"BD\"][\"region\"] = \"BJ\""
   ]
  },
  {
   "cell_type": "code",
   "execution_count": 18,
   "metadata": {},
   "outputs": [
    {
     "data": {
      "text/plain": [
       "GZ    40820\n",
       "SZ    28678\n",
       "BD    22209\n",
       "Name: region, dtype: int64"
      ]
     },
     "execution_count": 18,
     "metadata": {},
     "output_type": "execute_result"
    }
   ],
   "source": [
    "time_df[\"region\"].value_counts()"
   ]
  },
  {
   "cell_type": "code",
   "execution_count": 19,
   "metadata": {},
   "outputs": [],
   "source": [
    "time_df.loc[time_df[\"region\"]== \"BD\", \"region\"] = \"BJ\""
   ]
  },
  {
   "cell_type": "code",
   "execution_count": 20,
   "metadata": {},
   "outputs": [
    {
     "data": {
      "text/plain": [
       "GZ    40820\n",
       "SZ    28678\n",
       "BJ    22209\n",
       "Name: region, dtype: int64"
      ]
     },
     "execution_count": 20,
     "metadata": {},
     "output_type": "execute_result"
    }
   ],
   "source": [
    "time_df[\"region\"].value_counts()"
   ]
  },
  {
   "cell_type": "code",
   "execution_count": null,
   "metadata": {},
   "outputs": [],
   "source": []
  }
 ],
 "metadata": {
  "kernelspec": {
   "display_name": "mywork",
   "language": "python",
   "name": "python3"
  },
  "language_info": {
   "codemirror_mode": {
    "name": "ipython",
    "version": 3
   },
   "file_extension": ".py",
   "mimetype": "text/x-python",
   "name": "python",
   "nbconvert_exporter": "python",
   "pygments_lexer": "ipython3",
   "version": "3.8.18"
  }
 },
 "nbformat": 4,
 "nbformat_minor": 2
}
