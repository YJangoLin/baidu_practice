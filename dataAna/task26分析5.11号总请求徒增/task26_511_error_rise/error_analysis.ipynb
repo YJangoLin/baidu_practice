{
 "cells": [
  {
   "cell_type": "code",
   "execution_count": 1,
   "metadata": {},
   "outputs": [],
   "source": [
    "import pandas as pd\n",
    "import numpy as np\n",
    "import os\n",
    "import json"
   ]
  },
  {
   "cell_type": "code",
   "execution_count": 2,
   "metadata": {},
   "outputs": [
    {
     "data": {
      "text/plain": [
       "['es_origin_data_12:00:00.csv',\n",
       " 'es_origin_data_06:00:00.csv',\n",
       " 'es_origin_data_00:00:00.csv',\n",
       " 'es_origin_data_18:00:00.csv']"
      ]
     },
     "execution_count": 2,
     "metadata": {},
     "output_type": "execute_result"
    }
   ],
   "source": [
    "# import sys\n",
    "# sys.path.append(\"/Users/liangzonglin/workplace/project/baidu/bce-iot/du-home-log\")\n",
    "data_path = \"/Users/liangzonglin/workplace/project/baidu/bce-iot/du-home-log/data/version2_0/2024-05-11\"\n",
    "fileNames = os.listdir(data_path)\n",
    "CSVNames = [fileName for fileName in fileNames if fileName.endswith(\".csv\")]\n",
    "CSVNames"
   ]
  },
  {
   "cell_type": "code",
   "execution_count": 3,
   "metadata": {},
   "outputs": [],
   "source": [
    "dataList = []\n",
    "for fileName in CSVNames:\n",
    "    datadf =pd.read_csv(data_path+\"/\"+fileName)\n",
    "    dataList.append(datadf)\n",
    "df = pd.concat(dataList, axis=0, ignore_index=True)"
   ]
  },
  {
   "cell_type": "code",
   "execution_count": 4,
   "metadata": {},
   "outputs": [
    {
     "data": {
      "text/plain": [
       "146456"
      ]
     },
     "execution_count": 4,
     "metadata": {},
     "output_type": "execute_result"
    }
   ],
   "source": [
    "len(df)"
   ]
  },
  {
   "cell_type": "code",
   "execution_count": 5,
   "metadata": {},
   "outputs": [
    {
     "name": "stdout",
     "output_type": "stream",
     "text": [
      "2024-5-11:\n",
      "DAU:2392\n",
      "总请求：24414\n",
      "有效请求：4935\n"
     ]
    }
   ],
   "source": [
    "ana_DAU = df['deviceId'].nunique()\n",
    "authcount = df.query('seg==\"AUTH2ASR\"').shape[0]\n",
    "unitcount = df.query('seg==\"ASR2IOT\"').shape[0]\n",
    "print(\"2024-5-11:\")\n",
    "print(f\"DAU:{str(ana_DAU)}\")\n",
    "print(f\"总请求：{str(authcount)}\")\n",
    "print(f\"有效请求：{str(unitcount)}\")"
   ]
  },
  {
   "cell_type": "code",
   "execution_count": 6,
   "metadata": {},
   "outputs": [
    {
     "data": {
      "text/plain": [
       "130756"
      ]
     },
     "execution_count": 6,
     "metadata": {},
     "output_type": "execute_result"
    }
   ],
   "source": [
    "drop_dup_df = df.drop_duplicates(subset=['logId','seg', 'deviceId'], keep='first')\n",
    "len(drop_dup_df)"
   ]
  },
  {
   "cell_type": "code",
   "execution_count": 7,
   "metadata": {},
   "outputs": [
    {
     "name": "stdout",
     "output_type": "stream",
     "text": [
      "2024-5-11:\n",
      "DAU:2158\n",
      "总请求：24414\n",
      "有效请求：4935\n"
     ]
    }
   ],
   "source": [
    "# 删除重复的logId和seg再次查看\n",
    "drop_dup_df = df.drop_duplicates(subset=['logId','seg'], keep='first')\n",
    "dup_ana_DAU = drop_dup_df['deviceId'].nunique()\n",
    "dup_authcount = drop_dup_df.query('seg==\"AUTH2ASR\"').shape[0]\n",
    "dup_unitcount = drop_dup_df.query('seg==\"ASR2IOT\"').shape[0]\n",
    "print(\"2024-5-11:\")\n",
    "print(f\"DAU:{str(dup_ana_DAU)}\")\n",
    "print(f\"总请求：{str(dup_authcount)}\")\n",
    "print(f\"有效请求：{str(dup_unitcount)}\")"
   ]
  },
  {
   "cell_type": "code",
   "execution_count": 8,
   "metadata": {},
   "outputs": [],
   "source": [
    "import re\n",
    "\n",
    "def extractQuery(x):\n",
    "    contentJsonStr = x['content']\n",
    "    datanaJsonStr = x[\"dataana\"]\n",
    "    pattern = r'\"query\": \"(.*?)\"'\n",
    "    match, match1 = None, None\n",
    "    if pd.notna(contentJsonStr):\n",
    "        match = re.search(pattern, contentJsonStr)\n",
    "    if pd.notna(datanaJsonStr):\n",
    "        match1 = re.search(pattern, datanaJsonStr)\n",
    "    if match:\n",
    "        name = match.group(1)\n",
    "        return name\n",
    "    elif match1:\n",
    "        name = match1.group(1)\n",
    "        return name\n",
    "    else:\n",
    "        return ''\n",
    "df['query'] = df.apply(extractQuery, axis=1)"
   ]
  },
  {
   "cell_type": "code",
   "execution_count": 9,
   "metadata": {},
   "outputs": [
    {
     "data": {
      "text/plain": [
       "<bound method IndexOpsMixin.value_counts of 0                       \n",
       "1                       \n",
       "2                       \n",
       "3                       \n",
       "4                       \n",
       "               ...      \n",
       "146451    拍照看看旁边的大人有没有代理\n",
       "146452                  \n",
       "146453                  \n",
       "146454                  \n",
       "146455                  \n",
       "Name: query, Length: 146456, dtype: object>"
      ]
     },
     "execution_count": 9,
     "metadata": {},
     "output_type": "execute_result"
    }
   ],
   "source": [
    "df['query'].value_counts"
   ]
  },
  {
   "cell_type": "code",
   "execution_count": null,
   "metadata": {},
   "outputs": [],
   "source": []
  },
  {
   "cell_type": "code",
   "execution_count": 10,
   "metadata": {},
   "outputs": [
    {
     "data": {
      "text/html": [
       "<div>\n",
       "<style scoped>\n",
       "    .dataframe tbody tr th:only-of-type {\n",
       "        vertical-align: middle;\n",
       "    }\n",
       "\n",
       "    .dataframe tbody tr th {\n",
       "        vertical-align: top;\n",
       "    }\n",
       "\n",
       "    .dataframe thead th {\n",
       "        text-align: right;\n",
       "    }\n",
       "</style>\n",
       "<table border=\"1\" class=\"dataframe\">\n",
       "  <thead>\n",
       "    <tr style=\"text-align: right;\">\n",
       "      <th></th>\n",
       "      <th>seg</th>\n",
       "      <th>request_rate</th>\n",
       "    </tr>\n",
       "    <tr>\n",
       "      <th>deviceId</th>\n",
       "      <th></th>\n",
       "      <th></th>\n",
       "    </tr>\n",
       "  </thead>\n",
       "  <tbody>\n",
       "    <tr>\n",
       "      <th>z4863spgz3n0p6jCWMKoFBsB</th>\n",
       "      <td>4259</td>\n",
       "      <td>0.174449</td>\n",
       "    </tr>\n",
       "    <tr>\n",
       "      <th>z4863spgz3n0p6gorzheF4kT</th>\n",
       "      <td>4202</td>\n",
       "      <td>0.172114</td>\n",
       "    </tr>\n",
       "    <tr>\n",
       "      <th>z4863spgz3n0p665JrrUj21n</th>\n",
       "      <td>4080</td>\n",
       "      <td>0.167117</td>\n",
       "    </tr>\n",
       "    <tr>\n",
       "      <th>z4863spgz3n0p6hassVMXo7K</th>\n",
       "      <td>2580</td>\n",
       "      <td>0.105677</td>\n",
       "    </tr>\n",
       "    <tr>\n",
       "      <th>z4863sgc0s8bugSXioOBLvm2</th>\n",
       "      <td>997</td>\n",
       "      <td>0.040837</td>\n",
       "    </tr>\n",
       "    <tr>\n",
       "      <th>z4863sgc0s8bugymz55fC3cN</th>\n",
       "      <td>836</td>\n",
       "      <td>0.034243</td>\n",
       "    </tr>\n",
       "    <tr>\n",
       "      <th>z4863spgz3n0p6bk1Royuai9</th>\n",
       "      <td>833</td>\n",
       "      <td>0.034120</td>\n",
       "    </tr>\n",
       "    <tr>\n",
       "      <th>z4863sgc0s8bug3l1d6G50KF</th>\n",
       "      <td>618</td>\n",
       "      <td>0.025313</td>\n",
       "    </tr>\n",
       "    <tr>\n",
       "      <th>z4863spgz3n0p6nIJ3eyohAI</th>\n",
       "      <td>555</td>\n",
       "      <td>0.022733</td>\n",
       "    </tr>\n",
       "    <tr>\n",
       "      <th>z4863spgz3n0p6bKrleYmPxA</th>\n",
       "      <td>443</td>\n",
       "      <td>0.018145</td>\n",
       "    </tr>\n",
       "  </tbody>\n",
       "</table>\n",
       "</div>"
      ],
      "text/plain": [
       "                           seg  request_rate\n",
       "deviceId                                    \n",
       "z4863spgz3n0p6jCWMKoFBsB  4259      0.174449\n",
       "z4863spgz3n0p6gorzheF4kT  4202      0.172114\n",
       "z4863spgz3n0p665JrrUj21n  4080      0.167117\n",
       "z4863spgz3n0p6hassVMXo7K  2580      0.105677\n",
       "z4863sgc0s8bugSXioOBLvm2   997      0.040837\n",
       "z4863sgc0s8bugymz55fC3cN   836      0.034243\n",
       "z4863spgz3n0p6bk1Royuai9   833      0.034120\n",
       "z4863sgc0s8bug3l1d6G50KF   618      0.025313\n",
       "z4863spgz3n0p6nIJ3eyohAI   555      0.022733\n",
       "z4863spgz3n0p6bKrleYmPxA   443      0.018145"
      ]
     },
     "execution_count": 10,
     "metadata": {},
     "output_type": "execute_result"
    }
   ],
   "source": [
    "# 查看每个设备总请求数\n",
    "device_request_top10 = df[df[\"seg\"]==\"AUTH2ASR\"][['deviceId', 'seg']].groupby(\"deviceId\").count().sort_values(\"seg\", ascending=False)[:10]\n",
    "device_request_top10[\"request_rate\"] = device_request_top10['seg']/authcount\n",
    "device_request_top10"
   ]
  },
  {
   "cell_type": "code",
   "execution_count": 11,
   "metadata": {},
   "outputs": [],
   "source": [
    "device_request_top10.columns = [\"request_num\", \"request_rate\"]"
   ]
  },
  {
   "cell_type": "code",
   "execution_count": 12,
   "metadata": {},
   "outputs": [],
   "source": [
    "# device_request_top10.to_csv(\"device_all_request_ana.csv\")"
   ]
  },
  {
   "cell_type": "code",
   "execution_count": 13,
   "metadata": {},
   "outputs": [
    {
     "data": {
      "text/plain": [
       "Index(['z4863spgz3n0p6jCWMKoFBsB', 'z4863spgz3n0p6gorzheF4kT',\n",
       "       'z4863spgz3n0p665JrrUj21n', 'z4863spgz3n0p6hassVMXo7K',\n",
       "       'z4863sgc0s8bugSXioOBLvm2', 'z4863sgc0s8bugymz55fC3cN',\n",
       "       'z4863spgz3n0p6bk1Royuai9', 'z4863sgc0s8bug3l1d6G50KF',\n",
       "       'z4863spgz3n0p6nIJ3eyohAI', 'z4863spgz3n0p6bKrleYmPxA'],\n",
       "      dtype='object', name='deviceId')"
      ]
     },
     "execution_count": 13,
     "metadata": {},
     "output_type": "execute_result"
    }
   ],
   "source": [
    "device_index = device_request_top10.index\n",
    "device_index"
   ]
  },
  {
   "cell_type": "code",
   "execution_count": 14,
   "metadata": {},
   "outputs": [
    {
     "name": "stderr",
     "output_type": "stream",
     "text": [
      "/var/folders/81/j0bvbxw56kx30ybjrybjc9kr0000gn/T/ipykernel_7251/1704434460.py:2: UserWarning: Boolean Series key will be reindexed to match DataFrame index.\n",
      "  devicetop10df = df[df[\"deviceId\"].isin(device_index)][df['seg']==\"ASR2IOT\"]\n"
     ]
    }
   ],
   "source": [
    "# df.loc[df[\"seg\"]==\"ASR2IOT\" & df[\"deviceId\"].isin(device_index)][].head()\n",
    "devicetop10df = df[df[\"deviceId\"].isin(device_index)][df['seg']==\"ASR2IOT\"]"
   ]
  },
  {
   "cell_type": "code",
   "execution_count": 15,
   "metadata": {},
   "outputs": [
    {
     "data": {
      "text/html": [
       "<div>\n",
       "<style scoped>\n",
       "    .dataframe tbody tr th:only-of-type {\n",
       "        vertical-align: middle;\n",
       "    }\n",
       "\n",
       "    .dataframe tbody tr th {\n",
       "        vertical-align: top;\n",
       "    }\n",
       "\n",
       "    .dataframe thead th {\n",
       "        text-align: right;\n",
       "    }\n",
       "</style>\n",
       "<table border=\"1\" class=\"dataframe\">\n",
       "  <thead>\n",
       "    <tr style=\"text-align: right;\">\n",
       "      <th></th>\n",
       "      <th>Unnamed: 0</th>\n",
       "      <th>version</th>\n",
       "      <th>ts</th>\n",
       "      <th>seg</th>\n",
       "      <th>fc</th>\n",
       "      <th>pk</th>\n",
       "      <th>ak</th>\n",
       "      <th>logId</th>\n",
       "      <th>content</th>\n",
       "      <th>dir</th>\n",
       "      <th>messageId</th>\n",
       "      <th>extended</th>\n",
       "      <th>botName</th>\n",
       "      <th>logDate</th>\n",
       "      <th>dataana</th>\n",
       "      <th>query</th>\n",
       "    </tr>\n",
       "    <tr>\n",
       "      <th>deviceId</th>\n",
       "      <th></th>\n",
       "      <th></th>\n",
       "      <th></th>\n",
       "      <th></th>\n",
       "      <th></th>\n",
       "      <th></th>\n",
       "      <th></th>\n",
       "      <th></th>\n",
       "      <th></th>\n",
       "      <th></th>\n",
       "      <th></th>\n",
       "      <th></th>\n",
       "      <th></th>\n",
       "      <th></th>\n",
       "      <th></th>\n",
       "      <th></th>\n",
       "    </tr>\n",
       "  </thead>\n",
       "  <tbody>\n",
       "    <tr>\n",
       "      <th>z4863sgc0s8bug3l1d6G50KF</th>\n",
       "      <td>293</td>\n",
       "      <td>293</td>\n",
       "      <td>293</td>\n",
       "      <td>293</td>\n",
       "      <td>293</td>\n",
       "      <td>293</td>\n",
       "      <td>293</td>\n",
       "      <td>293</td>\n",
       "      <td>293</td>\n",
       "      <td>293</td>\n",
       "      <td>293</td>\n",
       "      <td>0</td>\n",
       "      <td>293</td>\n",
       "      <td>293</td>\n",
       "      <td>293</td>\n",
       "      <td>293</td>\n",
       "    </tr>\n",
       "    <tr>\n",
       "      <th>z4863sgc0s8bugSXioOBLvm2</th>\n",
       "      <td>32</td>\n",
       "      <td>32</td>\n",
       "      <td>32</td>\n",
       "      <td>32</td>\n",
       "      <td>32</td>\n",
       "      <td>32</td>\n",
       "      <td>32</td>\n",
       "      <td>32</td>\n",
       "      <td>32</td>\n",
       "      <td>32</td>\n",
       "      <td>32</td>\n",
       "      <td>0</td>\n",
       "      <td>32</td>\n",
       "      <td>32</td>\n",
       "      <td>32</td>\n",
       "      <td>32</td>\n",
       "    </tr>\n",
       "    <tr>\n",
       "      <th>z4863sgc0s8bugymz55fC3cN</th>\n",
       "      <td>28</td>\n",
       "      <td>28</td>\n",
       "      <td>28</td>\n",
       "      <td>28</td>\n",
       "      <td>28</td>\n",
       "      <td>28</td>\n",
       "      <td>28</td>\n",
       "      <td>28</td>\n",
       "      <td>28</td>\n",
       "      <td>28</td>\n",
       "      <td>28</td>\n",
       "      <td>0</td>\n",
       "      <td>28</td>\n",
       "      <td>28</td>\n",
       "      <td>28</td>\n",
       "      <td>28</td>\n",
       "    </tr>\n",
       "    <tr>\n",
       "      <th>z4863spgz3n0p665JrrUj21n</th>\n",
       "      <td>137</td>\n",
       "      <td>137</td>\n",
       "      <td>137</td>\n",
       "      <td>137</td>\n",
       "      <td>137</td>\n",
       "      <td>137</td>\n",
       "      <td>137</td>\n",
       "      <td>137</td>\n",
       "      <td>137</td>\n",
       "      <td>137</td>\n",
       "      <td>137</td>\n",
       "      <td>0</td>\n",
       "      <td>137</td>\n",
       "      <td>137</td>\n",
       "      <td>137</td>\n",
       "      <td>137</td>\n",
       "    </tr>\n",
       "    <tr>\n",
       "      <th>z4863spgz3n0p6bKrleYmPxA</th>\n",
       "      <td>282</td>\n",
       "      <td>282</td>\n",
       "      <td>282</td>\n",
       "      <td>282</td>\n",
       "      <td>282</td>\n",
       "      <td>282</td>\n",
       "      <td>282</td>\n",
       "      <td>282</td>\n",
       "      <td>282</td>\n",
       "      <td>282</td>\n",
       "      <td>282</td>\n",
       "      <td>0</td>\n",
       "      <td>282</td>\n",
       "      <td>282</td>\n",
       "      <td>282</td>\n",
       "      <td>282</td>\n",
       "    </tr>\n",
       "    <tr>\n",
       "      <th>z4863spgz3n0p6bk1Royuai9</th>\n",
       "      <td>14</td>\n",
       "      <td>14</td>\n",
       "      <td>14</td>\n",
       "      <td>14</td>\n",
       "      <td>14</td>\n",
       "      <td>14</td>\n",
       "      <td>14</td>\n",
       "      <td>14</td>\n",
       "      <td>14</td>\n",
       "      <td>14</td>\n",
       "      <td>14</td>\n",
       "      <td>0</td>\n",
       "      <td>14</td>\n",
       "      <td>14</td>\n",
       "      <td>14</td>\n",
       "      <td>14</td>\n",
       "    </tr>\n",
       "    <tr>\n",
       "      <th>z4863spgz3n0p6gorzheF4kT</th>\n",
       "      <td>94</td>\n",
       "      <td>94</td>\n",
       "      <td>94</td>\n",
       "      <td>94</td>\n",
       "      <td>94</td>\n",
       "      <td>94</td>\n",
       "      <td>94</td>\n",
       "      <td>94</td>\n",
       "      <td>94</td>\n",
       "      <td>94</td>\n",
       "      <td>94</td>\n",
       "      <td>0</td>\n",
       "      <td>94</td>\n",
       "      <td>94</td>\n",
       "      <td>94</td>\n",
       "      <td>94</td>\n",
       "    </tr>\n",
       "    <tr>\n",
       "      <th>z4863spgz3n0p6hassVMXo7K</th>\n",
       "      <td>49</td>\n",
       "      <td>49</td>\n",
       "      <td>49</td>\n",
       "      <td>49</td>\n",
       "      <td>49</td>\n",
       "      <td>49</td>\n",
       "      <td>49</td>\n",
       "      <td>49</td>\n",
       "      <td>49</td>\n",
       "      <td>49</td>\n",
       "      <td>49</td>\n",
       "      <td>0</td>\n",
       "      <td>49</td>\n",
       "      <td>49</td>\n",
       "      <td>49</td>\n",
       "      <td>49</td>\n",
       "    </tr>\n",
       "    <tr>\n",
       "      <th>z4863spgz3n0p6jCWMKoFBsB</th>\n",
       "      <td>89</td>\n",
       "      <td>89</td>\n",
       "      <td>89</td>\n",
       "      <td>89</td>\n",
       "      <td>89</td>\n",
       "      <td>89</td>\n",
       "      <td>89</td>\n",
       "      <td>89</td>\n",
       "      <td>89</td>\n",
       "      <td>89</td>\n",
       "      <td>89</td>\n",
       "      <td>0</td>\n",
       "      <td>89</td>\n",
       "      <td>89</td>\n",
       "      <td>89</td>\n",
       "      <td>89</td>\n",
       "    </tr>\n",
       "    <tr>\n",
       "      <th>z4863spgz3n0p6nIJ3eyohAI</th>\n",
       "      <td>281</td>\n",
       "      <td>281</td>\n",
       "      <td>281</td>\n",
       "      <td>281</td>\n",
       "      <td>281</td>\n",
       "      <td>281</td>\n",
       "      <td>281</td>\n",
       "      <td>281</td>\n",
       "      <td>281</td>\n",
       "      <td>281</td>\n",
       "      <td>281</td>\n",
       "      <td>0</td>\n",
       "      <td>281</td>\n",
       "      <td>281</td>\n",
       "      <td>281</td>\n",
       "      <td>281</td>\n",
       "    </tr>\n",
       "  </tbody>\n",
       "</table>\n",
       "</div>"
      ],
      "text/plain": [
       "                          Unnamed: 0  version   ts  seg   fc   pk   ak  logId  \\\n",
       "deviceId                                                                        \n",
       "z4863sgc0s8bug3l1d6G50KF         293      293  293  293  293  293  293    293   \n",
       "z4863sgc0s8bugSXioOBLvm2          32       32   32   32   32   32   32     32   \n",
       "z4863sgc0s8bugymz55fC3cN          28       28   28   28   28   28   28     28   \n",
       "z4863spgz3n0p665JrrUj21n         137      137  137  137  137  137  137    137   \n",
       "z4863spgz3n0p6bKrleYmPxA         282      282  282  282  282  282  282    282   \n",
       "z4863spgz3n0p6bk1Royuai9          14       14   14   14   14   14   14     14   \n",
       "z4863spgz3n0p6gorzheF4kT          94       94   94   94   94   94   94     94   \n",
       "z4863spgz3n0p6hassVMXo7K          49       49   49   49   49   49   49     49   \n",
       "z4863spgz3n0p6jCWMKoFBsB          89       89   89   89   89   89   89     89   \n",
       "z4863spgz3n0p6nIJ3eyohAI         281      281  281  281  281  281  281    281   \n",
       "\n",
       "                          content  dir  messageId  extended  botName  logDate  \\\n",
       "deviceId                                                                        \n",
       "z4863sgc0s8bug3l1d6G50KF      293  293        293         0      293      293   \n",
       "z4863sgc0s8bugSXioOBLvm2       32   32         32         0       32       32   \n",
       "z4863sgc0s8bugymz55fC3cN       28   28         28         0       28       28   \n",
       "z4863spgz3n0p665JrrUj21n      137  137        137         0      137      137   \n",
       "z4863spgz3n0p6bKrleYmPxA      282  282        282         0      282      282   \n",
       "z4863spgz3n0p6bk1Royuai9       14   14         14         0       14       14   \n",
       "z4863spgz3n0p6gorzheF4kT       94   94         94         0       94       94   \n",
       "z4863spgz3n0p6hassVMXo7K       49   49         49         0       49       49   \n",
       "z4863spgz3n0p6jCWMKoFBsB       89   89         89         0       89       89   \n",
       "z4863spgz3n0p6nIJ3eyohAI      281  281        281         0      281      281   \n",
       "\n",
       "                          dataana  query  \n",
       "deviceId                                  \n",
       "z4863sgc0s8bug3l1d6G50KF      293    293  \n",
       "z4863sgc0s8bugSXioOBLvm2       32     32  \n",
       "z4863sgc0s8bugymz55fC3cN       28     28  \n",
       "z4863spgz3n0p665JrrUj21n      137    137  \n",
       "z4863spgz3n0p6bKrleYmPxA      282    282  \n",
       "z4863spgz3n0p6bk1Royuai9       14     14  \n",
       "z4863spgz3n0p6gorzheF4kT       94     94  \n",
       "z4863spgz3n0p6hassVMXo7K       49     49  \n",
       "z4863spgz3n0p6jCWMKoFBsB       89     89  \n",
       "z4863spgz3n0p6nIJ3eyohAI      281    281  "
      ]
     },
     "execution_count": 15,
     "metadata": {},
     "output_type": "execute_result"
    }
   ],
   "source": [
    "deviceASRNum = devicetop10df.groupby(\"deviceId\").count()\n",
    "# deviceASRNum['asr_request_rate'] = deviceASRNum/unitcount\n",
    "# deviceASRNum[[\"seg\", \"asr_request_rate\"]]\n",
    "deviceASRNum"
   ]
  },
  {
   "cell_type": "code",
   "execution_count": 22,
   "metadata": {},
   "outputs": [],
   "source": [
    "df[df['deviceId'].isin(device_index[:7])][[\"deviceId\", \"fc\", \"pk\", \"ak\"]].groupby(\"deviceId\").first().loc[device_index[:7], :].to_excel(\"error_device_tuple.xlsx\")"
   ]
  },
  {
   "cell_type": "code",
   "execution_count": 108,
   "metadata": {},
   "outputs": [],
   "source": [
    "deviceASRNum[\"request_unit_rate\"] = deviceASRNum['seg']/unitcount\n",
    "deviceUintInfo = deviceASRNum[['seg', 'request_unit_rate']]\n",
    "deviceUintInfo.columns = [\"unit_num\", 'request_unit_rate']"
   ]
  },
  {
   "cell_type": "code",
   "execution_count": 109,
   "metadata": {},
   "outputs": [
    {
     "data": {
      "text/html": [
       "<div>\n",
       "<style scoped>\n",
       "    .dataframe tbody tr th:only-of-type {\n",
       "        vertical-align: middle;\n",
       "    }\n",
       "\n",
       "    .dataframe tbody tr th {\n",
       "        vertical-align: top;\n",
       "    }\n",
       "\n",
       "    .dataframe thead th {\n",
       "        text-align: right;\n",
       "    }\n",
       "</style>\n",
       "<table border=\"1\" class=\"dataframe\">\n",
       "  <thead>\n",
       "    <tr style=\"text-align: right;\">\n",
       "      <th></th>\n",
       "      <th>request_num</th>\n",
       "      <th>request_rate</th>\n",
       "      <th>unit_num</th>\n",
       "      <th>request_unit_rate</th>\n",
       "    </tr>\n",
       "    <tr>\n",
       "      <th>deviceId</th>\n",
       "      <th></th>\n",
       "      <th></th>\n",
       "      <th></th>\n",
       "      <th></th>\n",
       "    </tr>\n",
       "  </thead>\n",
       "  <tbody>\n",
       "    <tr>\n",
       "      <th>z4863spgz3n0p6jCWMKoFBsB</th>\n",
       "      <td>4259</td>\n",
       "      <td>0.174449</td>\n",
       "      <td>89</td>\n",
       "      <td>0.018034</td>\n",
       "    </tr>\n",
       "    <tr>\n",
       "      <th>z4863spgz3n0p6gorzheF4kT</th>\n",
       "      <td>4202</td>\n",
       "      <td>0.172114</td>\n",
       "      <td>94</td>\n",
       "      <td>0.019048</td>\n",
       "    </tr>\n",
       "    <tr>\n",
       "      <th>z4863spgz3n0p665JrrUj21n</th>\n",
       "      <td>4080</td>\n",
       "      <td>0.167117</td>\n",
       "      <td>137</td>\n",
       "      <td>0.027761</td>\n",
       "    </tr>\n",
       "    <tr>\n",
       "      <th>z4863spgz3n0p6hassVMXo7K</th>\n",
       "      <td>2580</td>\n",
       "      <td>0.105677</td>\n",
       "      <td>49</td>\n",
       "      <td>0.009929</td>\n",
       "    </tr>\n",
       "    <tr>\n",
       "      <th>z4863sgc0s8bugSXioOBLvm2</th>\n",
       "      <td>997</td>\n",
       "      <td>0.040837</td>\n",
       "      <td>32</td>\n",
       "      <td>0.006484</td>\n",
       "    </tr>\n",
       "    <tr>\n",
       "      <th>z4863sgc0s8bugymz55fC3cN</th>\n",
       "      <td>836</td>\n",
       "      <td>0.034243</td>\n",
       "      <td>28</td>\n",
       "      <td>0.005674</td>\n",
       "    </tr>\n",
       "    <tr>\n",
       "      <th>z4863spgz3n0p6bk1Royuai9</th>\n",
       "      <td>833</td>\n",
       "      <td>0.034120</td>\n",
       "      <td>14</td>\n",
       "      <td>0.002837</td>\n",
       "    </tr>\n",
       "    <tr>\n",
       "      <th>z4863sgc0s8bug3l1d6G50KF</th>\n",
       "      <td>618</td>\n",
       "      <td>0.025313</td>\n",
       "      <td>293</td>\n",
       "      <td>0.059372</td>\n",
       "    </tr>\n",
       "    <tr>\n",
       "      <th>z4863spgz3n0p6nIJ3eyohAI</th>\n",
       "      <td>555</td>\n",
       "      <td>0.022733</td>\n",
       "      <td>281</td>\n",
       "      <td>0.056940</td>\n",
       "    </tr>\n",
       "    <tr>\n",
       "      <th>z4863spgz3n0p6bKrleYmPxA</th>\n",
       "      <td>443</td>\n",
       "      <td>0.018145</td>\n",
       "      <td>282</td>\n",
       "      <td>0.057143</td>\n",
       "    </tr>\n",
       "  </tbody>\n",
       "</table>\n",
       "</div>"
      ],
      "text/plain": [
       "                          request_num  request_rate  unit_num  \\\n",
       "deviceId                                                        \n",
       "z4863spgz3n0p6jCWMKoFBsB         4259      0.174449        89   \n",
       "z4863spgz3n0p6gorzheF4kT         4202      0.172114        94   \n",
       "z4863spgz3n0p665JrrUj21n         4080      0.167117       137   \n",
       "z4863spgz3n0p6hassVMXo7K         2580      0.105677        49   \n",
       "z4863sgc0s8bugSXioOBLvm2          997      0.040837        32   \n",
       "z4863sgc0s8bugymz55fC3cN          836      0.034243        28   \n",
       "z4863spgz3n0p6bk1Royuai9          833      0.034120        14   \n",
       "z4863sgc0s8bug3l1d6G50KF          618      0.025313       293   \n",
       "z4863spgz3n0p6nIJ3eyohAI          555      0.022733       281   \n",
       "z4863spgz3n0p6bKrleYmPxA          443      0.018145       282   \n",
       "\n",
       "                          request_unit_rate  \n",
       "deviceId                                     \n",
       "z4863spgz3n0p6jCWMKoFBsB           0.018034  \n",
       "z4863spgz3n0p6gorzheF4kT           0.019048  \n",
       "z4863spgz3n0p665JrrUj21n           0.027761  \n",
       "z4863spgz3n0p6hassVMXo7K           0.009929  \n",
       "z4863sgc0s8bugSXioOBLvm2           0.006484  \n",
       "z4863sgc0s8bugymz55fC3cN           0.005674  \n",
       "z4863spgz3n0p6bk1Royuai9           0.002837  \n",
       "z4863sgc0s8bug3l1d6G50KF           0.059372  \n",
       "z4863spgz3n0p6nIJ3eyohAI           0.056940  \n",
       "z4863spgz3n0p6bKrleYmPxA           0.057143  "
      ]
     },
     "execution_count": 109,
     "metadata": {},
     "output_type": "execute_result"
    }
   ],
   "source": [
    "merge_df = pd.merge(device_request_top10, deviceUintInfo, left_index=True, right_index=True)\n",
    "merge_df"
   ]
  },
  {
   "cell_type": "code",
   "execution_count": 110,
   "metadata": {},
   "outputs": [],
   "source": [
    "merge_df.to_csv('device_all_request_ana.csv')"
   ]
  },
  {
   "cell_type": "code",
   "execution_count": 111,
   "metadata": {},
   "outputs": [
    {
     "data": {
      "text/plain": [
       "Index(['Unnamed: 0', 'version', 'ts', 'seg', 'deviceId', 'fc', 'pk', 'ak',\n",
       "       'logId', 'content', 'dir', 'messageId', 'extended', 'botName',\n",
       "       'logDate', 'dataana', 'query'],\n",
       "      dtype='object')"
      ]
     },
     "execution_count": 111,
     "metadata": {},
     "output_type": "execute_result"
    }
   ],
   "source": [
    "df.columns"
   ]
  },
  {
   "cell_type": "code",
   "execution_count": 112,
   "metadata": {},
   "outputs": [],
   "source": [
    "# 追踪5-11号异常设备的各个时间短发送的请求数量\n",
    "def qps(df, device):\n",
    "        ############## 5 QPS统计  ##############\n",
    "        def timeshort(tstr):\n",
    "            return tstr[:-4]\n",
    "        ana_time = df[(df['seg'] == 'AUTH2ASR')].copy()\n",
    "        ana_time['ts'] = ana_time['ts'].apply(timeshort)\n",
    "        qps = ana_time.groupby(\"ts\").agg(\"count\")\n",
    "        qps = qps.drop(\n",
    "            columns=['seg', 'deviceId', 'fc', 'pk', 'ak', 'logId', 'content', 'extended', 'dataana', 'messageId'])\n",
    "        qpsna = qps[(qps['version'] == qps.max().max())]\n",
    "        print(qpsna)\n",
    "        return qps"
   ]
  },
  {
   "cell_type": "code",
   "execution_count": 113,
   "metadata": {},
   "outputs": [
    {
     "data": {
      "text/plain": [
       "0    2024-05-11 12:04:30.859\n",
       "1    2024-05-11 12:04:30.862\n",
       "2    2024-05-11 12:04:30.895\n",
       "3    2024-05-11 12:05:00.706\n",
       "Name: ts, dtype: object"
      ]
     },
     "execution_count": 113,
     "metadata": {},
     "output_type": "execute_result"
    }
   ],
   "source": [
    "df['ts'][:4]"
   ]
  },
  {
   "cell_type": "code",
   "execution_count": 114,
   "metadata": {},
   "outputs": [
    {
     "data": {
      "text/html": [
       "<div>\n",
       "<style scoped>\n",
       "    .dataframe tbody tr th:only-of-type {\n",
       "        vertical-align: middle;\n",
       "    }\n",
       "\n",
       "    .dataframe tbody tr th {\n",
       "        vertical-align: top;\n",
       "    }\n",
       "\n",
       "    .dataframe thead th {\n",
       "        text-align: right;\n",
       "    }\n",
       "</style>\n",
       "<table border=\"1\" class=\"dataframe\">\n",
       "  <thead>\n",
       "    <tr style=\"text-align: right;\">\n",
       "      <th></th>\n",
       "      <th>Unnamed: 0</th>\n",
       "      <th>version</th>\n",
       "      <th>dir</th>\n",
       "      <th>botName</th>\n",
       "      <th>logDate</th>\n",
       "      <th>query</th>\n",
       "    </tr>\n",
       "    <tr>\n",
       "      <th>ts</th>\n",
       "      <th></th>\n",
       "      <th></th>\n",
       "      <th></th>\n",
       "      <th></th>\n",
       "      <th></th>\n",
       "      <th></th>\n",
       "    </tr>\n",
       "  </thead>\n",
       "  <tbody>\n",
       "    <tr>\n",
       "      <th>2024-05-11 20:38:48</th>\n",
       "      <td>8</td>\n",
       "      <td>8</td>\n",
       "      <td>8</td>\n",
       "      <td>0</td>\n",
       "      <td>0</td>\n",
       "      <td>8</td>\n",
       "    </tr>\n",
       "  </tbody>\n",
       "</table>\n",
       "</div>"
      ],
      "text/plain": [
       "                     Unnamed: 0  version  dir  botName  logDate  query\n",
       "ts                                                                    \n",
       "2024-05-11 20:38:48           8        8    8        0        0      8"
      ]
     },
     "execution_count": 114,
     "metadata": {},
     "output_type": "execute_result"
    }
   ],
   "source": [
    "def timeshort(tstr):\n",
    "    return tstr[:-4]\n",
    "ana_time = df[(df['seg'] == 'AUTH2ASR')].copy()\n",
    "ana_time['ts'] = ana_time['ts'].apply(timeshort)\n",
    "qps = ana_time.groupby(\"ts\").agg(\"count\")\n",
    "qps = qps.drop(\n",
    "    columns=['seg', 'deviceId', 'fc', 'pk', 'ak', 'logId', 'content', 'extended', 'dataana', 'messageId'])\n",
    "qpsna = qps[(qps['version'] == qps.max().max())]\n",
    "qpsna"
   ]
  },
  {
   "cell_type": "code",
   "execution_count": 115,
   "metadata": {},
   "outputs": [],
   "source": [
    "import json"
   ]
  },
  {
   "cell_type": "code",
   "execution_count": 116,
   "metadata": {},
   "outputs": [
    {
     "data": {
      "text/plain": [
       "<Axes: xlabel='ts'>"
      ]
     },
     "execution_count": 116,
     "metadata": {},
     "output_type": "execute_result"
    },
    {
     "data": {
      "image/png": "[encoded data removed]",
      "text/plain": [
       "<Figure size 640x480 with 1 Axes>"
      ]
     },
     "metadata": {},
     "output_type": "display_data"
    }
   ],
   "source": [
    "# 选取Top1根据时间分组查看请求变化\n",
    "import matplotlib.pyplot as plt\n",
    "def timeshort(tstr):\n",
    "    return tstr[:-10]\n",
    "ana_time = df[(df['seg'] == 'AUTH2ASR')].copy()\n",
    "ana_time['ts'] = ana_time['ts'].apply(timeshort)\n",
    "deviceId_top1 = \"z4863spgz3n0p6jCWMKoFBsB\"\n",
    "ana_time[ana_time['deviceId'] == deviceId_top1].groupby('ts').count()['deviceId'].plot(x='time', y='request_num', kind='line')"
   ]
  },
  {
   "cell_type": "code",
   "execution_count": 117,
   "metadata": {},
   "outputs": [
    {
     "data": {
      "text/plain": [
       "1.6145847942957394"
      ]
     },
     "execution_count": 117,
     "metadata": {},
     "output_type": "execute_result"
    }
   ],
   "source": [
    "ana_time[ana_time['deviceId'] == deviceId_top1].groupby('ts').count()['deviceId'].to_csv(\"fb_top1.csv\")\n",
    "ana_time[ana_time['deviceId'] == deviceId_top1].groupby('ts').count()['deviceId'].std()"
   ]
  },
  {
   "cell_type": "code",
   "execution_count": 118,
   "metadata": {},
   "outputs": [
    {
     "data": {
      "text/plain": [
       "1.6145847942957394"
      ]
     },
     "execution_count": 118,
     "metadata": {},
     "output_type": "execute_result"
    }
   ],
   "source": [
    "ana_time[ana_time['deviceId'] == deviceId_top1].groupby('ts').count()['deviceId'].std()"
   ]
  },
  {
   "cell_type": "code",
   "execution_count": 119,
   "metadata": {},
   "outputs": [
    {
     "data": {
      "text/plain": [
       "<Axes: xlabel='ts'>"
      ]
     },
     "execution_count": 119,
     "metadata": {},
     "output_type": "execute_result"
    },
    {
     "data": {
      "image/png": "[encoded data removed]",
      "text/plain": [
       "<Figure size 640x480 with 1 Axes>"
      ]
     },
     "metadata": {},
     "output_type": "display_data"
    }
   ],
   "source": [
    "deviceId_top1 = \"z4863spgz3n0p665JrrUj21n\"\n",
    "ana_time[ana_time['deviceId'] == deviceId_top1].groupby('ts').count()['deviceId'].plot(x='time', y='request_num', kind='line')"
   ]
  },
  {
   "cell_type": "code",
   "execution_count": 120,
   "metadata": {},
   "outputs": [
    {
     "data": {
      "text/plain": [
       "7.1869446855422146"
      ]
     },
     "execution_count": 120,
     "metadata": {},
     "output_type": "execute_result"
    }
   ],
   "source": [
    "ana_time[ana_time['deviceId'] == deviceId_top1].groupby('ts').count()['deviceId'].to_csv(\"fb_top2.csv\")\n",
    "ana_time[ana_time['deviceId'] == deviceId_top1].groupby('ts').count()['deviceId'].std()"
   ]
  },
  {
   "cell_type": "code",
   "execution_count": 121,
   "metadata": {},
   "outputs": [
    {
     "data": {
      "text/plain": [
       "Index(['z4863spgz3n0p6jCWMKoFBsB', 'z4863spgz3n0p6gorzheF4kT',\n",
       "       'z4863spgz3n0p665JrrUj21n', 'z4863spgz3n0p6hassVMXo7K',\n",
       "       'z4863sgc0s8bugSXioOBLvm2', 'z4863sgc0s8bugymz55fC3cN',\n",
       "       'z4863spgz3n0p6bk1Royuai9', 'z4863sgc0s8bug3l1d6G50KF',\n",
       "       'z4863spgz3n0p6nIJ3eyohAI', 'z4863spgz3n0p6bKrleYmPxA'],\n",
       "      dtype='object', name='deviceId')"
      ]
     },
     "execution_count": 121,
     "metadata": {},
     "output_type": "execute_result"
    }
   ],
   "source": [
    "device_index"
   ]
  },
  {
   "cell_type": "code",
   "execution_count": 125,
   "metadata": {},
   "outputs": [
    {
     "data": {
      "text/plain": [
       "146456"
      ]
     },
     "execution_count": 125,
     "metadata": {},
     "output_type": "execute_result"
    }
   ],
   "source": [
    "len(df)"
   ]
  },
  {
   "cell_type": "code",
   "execution_count": 132,
   "metadata": {},
   "outputs": [
    {
     "name": "stdout",
     "output_type": "stream",
     "text": [
      "z4863spgz3n0p6jCWMKoFBsB: 50\n",
      "z4863spgz3n0p6gorzheF4kT: 55\n",
      "z4863spgz3n0p665JrrUj21n: 64\n",
      "z4863spgz3n0p6hassVMXo7K: 35\n",
      "z4863sgc0s8bugSXioOBLvm2: 23\n",
      "z4863sgc0s8bugymz55fC3cN: 24\n",
      "z4863spgz3n0p6bk1Royuai9: 11\n",
      "z4863sgc0s8bug3l1d6G50KF: 284\n",
      "z4863spgz3n0p6nIJ3eyohAI: 276\n",
      "z4863spgz3n0p6bKrleYmPxA: 270\n"
     ]
    }
   ],
   "source": [
    "# request_df = df[df['seg']== \"AUTH2ASR\"]\n",
    "\n",
    "for deviceId in device_index:\n",
    "    count = len(df[df['deviceId'] == deviceId]['query'].value_counts())\n",
    "    print(f\"{deviceId}: {count}\")\n",
    "# 从content和dataana中提取query"
   ]
  },
  {
   "cell_type": "code",
   "execution_count": 141,
   "metadata": {},
   "outputs": [],
   "source": [
    "df[df['deviceId'].isin(device_index[:7])]['query'].value_counts()[:15].to_csv(\"abnormal_device_query.csv\")"
   ]
  },
  {
   "cell_type": "code",
   "execution_count": 142,
   "metadata": {},
   "outputs": [],
   "source": [
    "df[~df['deviceId'].isin(device_index[:7])]['query'].value_counts()[:15].to_csv(\"normal_device_query.csv\")"
   ]
  },
  {
   "cell_type": "code",
   "execution_count": 136,
   "metadata": {},
   "outputs": [
    {
     "data": {
      "text/plain": [
       "                  5336\n",
       "云鲸                  12\n",
       "现在关机                 8\n",
       "暂停                   6\n",
       "停                    6\n",
       "你穿的是不是没穿吗            4\n",
       "再见                   4\n",
       "自由自在                 4\n",
       "快                    4\n",
       "哦还有一个机               4\n",
       "不是打扫卫                4\n",
       "这些是啥意思呢              4\n",
       "你是点掉了那个框             4\n",
       "返回基站                 4\n",
       "你你说的是压一下看有没          4\n",
       "哦哦名字是说再压一下看看还有       4\n",
       "我这这                  4\n",
       "哥们要怎么说               4\n",
       "ok                   4\n",
       "还有多久                 2\n",
       "停机                   2\n",
       "请关机                  2\n",
       "现在几点钟                2\n",
       "嗯                    2\n",
       "到我这来                 2\n",
       "拖地                   2\n",
       "扫地                   2\n",
       "到                    2\n",
       "好了那我就还按现在的继续         2\n",
       "到这来                  2\n",
       "出来                   2\n",
       "去                    2\n",
       "关机啥呀这是你              2\n",
       "打扫餐厅                 2\n",
       "快点关机                 2\n",
       "Name: query, dtype: int64"
      ]
     },
     "execution_count": 136,
     "metadata": {},
     "output_type": "execute_result"
    }
   ],
   "source": [
    "df[df['deviceId'] == 'z4863spgz3n0p6hassVMXo7K']['query'].value_counts()"
   ]
  },
  {
   "cell_type": "code",
   "execution_count": null,
   "metadata": {},
   "outputs": [],
   "source": []
  },
  {
   "cell_type": "code",
   "execution_count": 133,
   "metadata": {},
   "outputs": [
    {
     "data": {
      "text/plain": [
       "                      1826\n",
       "拍照看看前面有什么               24\n",
       "来我这里扫地                  10\n",
       "厨柜下面有许多面包屑               4\n",
       "洗手间的洗手台下面有一些纸巾           4\n",
       "                      ... \n",
       "我可以把彩虹永远放在窗边吗            2\n",
       "次卧的浴室电                   2\n",
       "餐厅的鞋柜旁有落叶片散落             2\n",
       "停止工作如果我在烘干模式中停止扫地机       2\n",
       "明天早上八点预约清理厨房             2\n",
       "Name: query, Length: 284, dtype: int64"
      ]
     },
     "execution_count": 133,
     "metadata": {},
     "output_type": "execute_result"
    }
   ],
   "source": [
    "df[df['deviceId'] == 'z4863sgc0s8bug3l1d6G50KF']['query'].value_counts()"
   ]
  },
  {
   "cell_type": "code",
   "execution_count": null,
   "metadata": {},
   "outputs": [],
   "source": []
  }
 ],
 "metadata": {
  "kernelspec": {
   "display_name": "mywork",
   "language": "python",
   "name": "python3"
  },
  "language_info": {
   "codemirror_mode": {
    "name": "ipython",
    "version": 3
   },
   "file_extension": ".py",
   "mimetype": "text/x-python",
   "name": "python",
   "nbconvert_exporter": "python",
   "pygments_lexer": "ipython3",
   "version": "3.8.18"
  }
 },
 "nbformat": 4,
 "nbformat_minor": 2
}
