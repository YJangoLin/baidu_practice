{
 "cells": [
  {
   "cell_type": "code",
   "execution_count": 25,
   "metadata": {},
   "outputs": [],
   "source": [
    "import pandas as pd\n",
    "import numpy as np\n",
    "import json"
   ]
  },
  {
   "cell_type": "code",
   "execution_count": 38,
   "metadata": {},
   "outputs": [
    {
     "data": {
      "text/plain": [
       "23111"
      ]
     },
     "execution_count": 38,
     "metadata": {},
     "output_type": "execute_result"
    }
   ],
   "source": [
    "import os\n",
    "fileNames = os.listdir(\"./data\")\n",
    "filePaths = [f\"./data/{filename}\" for filename in os.listdir(\"./data\")]\n",
    "dataList = []\n",
    "for file in filePaths:\n",
    "    csvDf = pd.read_csv(file, sep='\\t', header=None, names=[\"query\", \"time_1\", \"time_2\", \"time_3\"], encoding=\"utf-8\")\n",
    "    dataList.append(csvDf)\n",
    "mergeDf = pd.concat(dataList, axis=0, ignore_index=True)\n",
    "dataDf = pd.concat([mergeDf, mergeDf], axis=0, ignore_index=True)\n",
    "dataDf.drop_duplicates(inplace=True)\n",
    "len(dataDf)\n",
    "# dataDf.to_excel(\"query_and_time.xlsx\", index=False)"
   ]
  },
  {
   "cell_type": "code",
   "execution_count": 39,
   "metadata": {},
   "outputs": [
    {
     "data": {
      "text/plain": [
       "query     23111\n",
       "time_1    23111\n",
       "time_2      278\n",
       "time_3        5\n",
       "dtype: int64"
      ]
     },
     "execution_count": 39,
     "metadata": {},
     "output_type": "execute_result"
    }
   ],
   "source": [
    "dataDf.notna().sum()"
   ]
  },
  {
   "cell_type": "code",
   "execution_count": 40,
   "metadata": {},
   "outputs": [
    {
     "data": {
      "text/plain": [
       "23111"
      ]
     },
     "execution_count": 40,
     "metadata": {},
     "output_type": "execute_result"
    }
   ],
   "source": [
    "len(dataDf)"
   ]
  },
  {
   "cell_type": "code",
   "execution_count": 41,
   "metadata": {},
   "outputs": [],
   "source": [
    "dataDf.to_excel(\"query_and_time.xlsx\", index=False)"
   ]
  },
  {
   "cell_type": "code",
   "execution_count": 38,
   "metadata": {},
   "outputs": [
    {
     "name": "stdout",
     "output_type": "stream",
     "text": [
      "15971\n"
     ]
    },
    {
     "data": {
      "text/plain": [
       "1664"
      ]
     },
     "execution_count": 38,
     "metadata": {},
     "output_type": "execute_result"
    }
   ],
   "source": [
    "print(len(csvDf))\n",
    "csvDf.drop_duplicates(inplace=True)\n",
    "len(csvDf)"
   ]
  },
  {
   "cell_type": "code",
   "execution_count": 39,
   "metadata": {},
   "outputs": [],
   "source": [
    "csvDf.to_excel(\"query_and_time(decode).xlsx\", index=False)"
   ]
  },
  {
   "cell_type": "code",
   "execution_count": 35,
   "metadata": {},
   "outputs": [],
   "source": [
    "csvDf.to_excel(\"query_and_time.xlsx\", index=False)"
   ]
  },
  {
   "cell_type": "code",
   "execution_count": null,
   "metadata": {},
   "outputs": [],
   "source": []
  },
  {
   "cell_type": "markdown",
   "metadata": {},
   "source": [
    "# 对BOS中数据进行处理"
   ]
  },
  {
   "cell_type": "code",
   "execution_count": 22,
   "metadata": {},
   "outputs": [
    {
     "data": {
      "text/plain": [
       "True"
      ]
     },
     "execution_count": 22,
     "metadata": {},
     "output_type": "execute_result"
    }
   ],
   "source": [
    "\n",
    "import pandas as pd\n",
    "import json\n",
    "import os\n",
    "# 文件路径\n",
    "date = \"2024-05-12\"\n",
    "# /Users/liangzonglin/workplace/project/temp/baidu/bce-iot/du-home-log/data/version2_0/2024-05-19/analysis/origin-my_index-2024-05-19.csv.zip\n",
    "rootDir = f\"/Users/liangzonglin/workplace/project/temp/baidu/bce-iot/du-home-log/data/version2_0/{date}/analysis/origin-my_index-{date}.csv.zip\"\n",
    "# 使用read_csv读取gzip压缩的文件\n",
    "# date = rootDir.split(\"/\")[-3]\n",
    "os.path.exists(rootDir)"
   ]
  },
  {
   "cell_type": "code",
   "execution_count": 23,
   "metadata": {},
   "outputs": [],
   "source": [
    "wirteFile = open(f\"data/data_{date}.txt\", \"w\")\n",
    "def getQueryAndTime(x):\n",
    "    contentJs = json.loads(x)\n",
    "    session = contentJs.get(\"session\")\n",
    "    if isinstance(session, str):\n",
    "        sessionJs = json.loads(session)\n",
    "    elif isinstance(session, dict):\n",
    "        sessionJs = [session]\n",
    "    else: return None\n",
    "    for sess in sessionJs:\n",
    "        query = sess.get(\"query\")\n",
    "        if query is None:\n",
    "            return None\n",
    "        results = sess.get(\"nlu\", {}).get('results', [])\n",
    "        for result in results:\n",
    "            if result is not None:\n",
    "                # print(result)\n",
    "                slots = result.get('slots', {})\n",
    "                timeList = slots.get('time') if slots is not None else None\n",
    "                if query is not None and timeList is not None:\n",
    "                    timeStr = \"\"\n",
    "                    for timel in timeList:\n",
    "                        timeStr += \"\\t\" + bytes(json.dumps(timel), 'utf-8').decode('unicode_escape')\n",
    "                    wirteFile.write(\"{}{}\\n\".format(query, timeStr))\n",
    "    return None"
   ]
  },
  {
   "cell_type": "code",
   "execution_count": 24,
   "metadata": {},
   "outputs": [],
   "source": [
    "# 分块处理\n",
    "reader = pd.read_csv(rootDir, compression='zip', usecols=[\"content\", \"seg\"], chunksize=10000)\n",
    "for chuck in reader:\n",
    "    contentDf = chuck\n",
    "    contentDf = contentDf[(contentDf[\"seg\"] == \"IOT2ASR\") & (contentDf[\"content\"].str.contains('time_range')) | (contentDf[\"content\"].str.contains('time_point'))][\"content\"]\n",
    "    _ = contentDf.apply(getQueryAndTime)\n",
    "wirteFile.close()"
   ]
  },
  {
   "cell_type": "code",
   "execution_count": null,
   "metadata": {},
   "outputs": [],
   "source": []
  },
  {
   "cell_type": "code",
   "execution_count": null,
   "metadata": {},
   "outputs": [],
   "source": []
  }
 ],
 "metadata": {
  "kernelspec": {
   "display_name": "mywork",
   "language": "python",
   "name": "python3"
  },
  "language_info": {
   "codemirror_mode": {
    "name": "ipython",
    "version": 3
   },
   "file_extension": ".py",
   "mimetype": "text/x-python",
   "name": "python",
   "nbconvert_exporter": "python",
   "pygments_lexer": "ipython3",
   "version": "3.8.18"
  }
 },
 "nbformat": 4,
 "nbformat_minor": 2
}
